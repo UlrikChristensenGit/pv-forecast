{
 "cells": [
  {
   "cell_type": "code",
   "execution_count": 1,
   "metadata": {},
   "outputs": [],
   "source": [
    "import pandas as pd\n",
    "import xarray as xr"
   ]
  },
  {
   "cell_type": "code",
   "execution_count": 2,
   "metadata": {},
   "outputs": [],
   "source": [
    "df = pd.read_parquet(\"/home/uch/PVForecast/data/.datalake/radiation_2.grib\")"
   ]
  },
  {
   "cell_type": "code",
   "execution_count": 28,
   "metadata": {},
   "outputs": [
    {
     "data": {
      "text/plain": [
       "54.30042635"
      ]
     },
     "execution_count": 28,
     "metadata": {},
     "output_type": "execute_result"
    }
   ],
   "source": [
    "df.loc[0, \"latitude\"]"
   ]
  },
  {
   "cell_type": "code",
   "execution_count": 3,
   "metadata": {},
   "outputs": [
    {
     "name": "stderr",
     "output_type": "stream",
     "text": [
      "/home/uch/.pyenv/versions/3.10.8/envs/pvforecast-etl/lib/python3.10/site-packages/numpy/core/getlimits.py:549: UserWarning: The value of the smallest subnormal for <class 'numpy.float32'> type is zero.\n",
      "  setattr(self, word, getattr(machar, word).flat[0])\n",
      "/home/uch/.pyenv/versions/3.10.8/envs/pvforecast-etl/lib/python3.10/site-packages/numpy/core/getlimits.py:89: UserWarning: The value of the smallest subnormal for <class 'numpy.float32'> type is zero.\n",
      "  return self._float_to_str(self.smallest_subnormal)\n"
     ]
    }
   ],
   "source": [
    "ds = xr.open_dataset(\"/home/uch/PVForecast/data/.datalake/forecast.grib\", engine=\"cfgrib\", backend_kwargs={\"filter_by_keys\": {\n",
    "            \"typeOfLevel\": \"heightAboveGround\",\n",
    "            \"parameterCategory\": 4,\n",
    "            \"parameterNumber\": 3,\n",
    "            \"level\": 0\n",
    "        }, \"indexpath\": \"\"})"
   ]
  },
  {
   "cell_type": "code",
   "execution_count": 31,
   "metadata": {},
   "outputs": [
    {
     "data": {
      "text/html": [
       "<div>\n",
       "<style scoped>\n",
       "    .dataframe tbody tr th:only-of-type {\n",
       "        vertical-align: middle;\n",
       "    }\n",
       "\n",
       "    .dataframe tbody tr th {\n",
       "        vertical-align: top;\n",
       "    }\n",
       "\n",
       "    .dataframe thead th {\n",
       "        text-align: right;\n",
       "    }\n",
       "</style>\n",
       "<table border=\"1\" class=\"dataframe\">\n",
       "  <thead>\n",
       "    <tr style=\"text-align: right;\">\n",
       "      <th></th>\n",
       "      <th></th>\n",
       "      <th>number</th>\n",
       "      <th>time</th>\n",
       "      <th>step</th>\n",
       "      <th>heightAboveGround</th>\n",
       "      <th>latitude</th>\n",
       "      <th>longitude</th>\n",
       "      <th>valid_time</th>\n",
       "      <th>grad</th>\n",
       "    </tr>\n",
       "    <tr>\n",
       "      <th>y</th>\n",
       "      <th>x</th>\n",
       "      <th></th>\n",
       "      <th></th>\n",
       "      <th></th>\n",
       "      <th></th>\n",
       "      <th></th>\n",
       "      <th></th>\n",
       "      <th></th>\n",
       "      <th></th>\n",
       "    </tr>\n",
       "  </thead>\n",
       "  <tbody>\n",
       "    <tr>\n",
       "      <th rowspan=\"5\" valign=\"top\">728</th>\n",
       "      <th>723</th>\n",
       "      <td>0</td>\n",
       "      <td>2024-09-07 15:00:00</td>\n",
       "      <td>2 days 01:00:00</td>\n",
       "      <td>0.0</td>\n",
       "      <td>54.300278</td>\n",
       "      <td>350.743824</td>\n",
       "      <td>2024-09-09 16:00:00</td>\n",
       "      <td>10598394.0</td>\n",
       "    </tr>\n",
       "    <tr>\n",
       "      <th>724</th>\n",
       "      <td>0</td>\n",
       "      <td>2024-09-07 15:00:00</td>\n",
       "      <td>2 days 01:00:00</td>\n",
       "      <td>0.0</td>\n",
       "      <td>54.300599</td>\n",
       "      <td>350.774635</td>\n",
       "      <td>2024-09-09 16:00:00</td>\n",
       "      <td>10593274.0</td>\n",
       "    </tr>\n",
       "    <tr>\n",
       "      <th>725</th>\n",
       "      <td>0</td>\n",
       "      <td>2024-09-07 15:00:00</td>\n",
       "      <td>2 days 01:00:00</td>\n",
       "      <td>0.0</td>\n",
       "      <td>54.300911</td>\n",
       "      <td>350.805446</td>\n",
       "      <td>2024-09-09 16:00:00</td>\n",
       "      <td>10285050.0</td>\n",
       "    </tr>\n",
       "    <tr>\n",
       "      <th>726</th>\n",
       "      <td>0</td>\n",
       "      <td>2024-09-07 15:00:00</td>\n",
       "      <td>2 days 01:00:00</td>\n",
       "      <td>0.0</td>\n",
       "      <td>54.301216</td>\n",
       "      <td>350.836257</td>\n",
       "      <td>2024-09-09 16:00:00</td>\n",
       "      <td>9970682.0</td>\n",
       "    </tr>\n",
       "    <tr>\n",
       "      <th>727</th>\n",
       "      <td>0</td>\n",
       "      <td>2024-09-07 15:00:00</td>\n",
       "      <td>2 days 01:00:00</td>\n",
       "      <td>0.0</td>\n",
       "      <td>54.301513</td>\n",
       "      <td>350.867069</td>\n",
       "      <td>2024-09-09 16:00:00</td>\n",
       "      <td>9882618.0</td>\n",
       "    </tr>\n",
       "    <tr>\n",
       "      <th>...</th>\n",
       "      <th>...</th>\n",
       "      <td>...</td>\n",
       "      <td>...</td>\n",
       "      <td>...</td>\n",
       "      <td>...</td>\n",
       "      <td>...</td>\n",
       "      <td>...</td>\n",
       "      <td>...</td>\n",
       "      <td>...</td>\n",
       "    </tr>\n",
       "    <tr>\n",
       "      <th rowspan=\"5\" valign=\"top\">1605</th>\n",
       "      <th>1901</th>\n",
       "      <td>0</td>\n",
       "      <td>2024-09-07 15:00:00</td>\n",
       "      <td>2 days 01:00:00</td>\n",
       "      <td>0.0</td>\n",
       "      <td>62.713052</td>\n",
       "      <td>39.950011</td>\n",
       "      <td>2024-09-09 16:00:00</td>\n",
       "      <td>29107194.0</td>\n",
       "    </tr>\n",
       "    <tr>\n",
       "      <th>1902</th>\n",
       "      <td>0</td>\n",
       "      <td>2024-09-07 15:00:00</td>\n",
       "      <td>2 days 01:00:00</td>\n",
       "      <td>0.0</td>\n",
       "      <td>62.701702</td>\n",
       "      <td>39.980009</td>\n",
       "      <td>2024-09-09 16:00:00</td>\n",
       "      <td>29147130.0</td>\n",
       "    </tr>\n",
       "    <tr>\n",
       "      <th>1903</th>\n",
       "      <td>0</td>\n",
       "      <td>2024-09-07 15:00:00</td>\n",
       "      <td>2 days 01:00:00</td>\n",
       "      <td>0.0</td>\n",
       "      <td>62.690345</td>\n",
       "      <td>40.009985</td>\n",
       "      <td>2024-09-09 16:00:00</td>\n",
       "      <td>29162490.0</td>\n",
       "    </tr>\n",
       "    <tr>\n",
       "      <th>1904</th>\n",
       "      <td>0</td>\n",
       "      <td>2024-09-07 15:00:00</td>\n",
       "      <td>2 days 01:00:00</td>\n",
       "      <td>0.0</td>\n",
       "      <td>62.678982</td>\n",
       "      <td>40.039940</td>\n",
       "      <td>2024-09-09 16:00:00</td>\n",
       "      <td>29192186.0</td>\n",
       "    </tr>\n",
       "    <tr>\n",
       "      <th>1905</th>\n",
       "      <td>0</td>\n",
       "      <td>2024-09-07 15:00:00</td>\n",
       "      <td>2 days 01:00:00</td>\n",
       "      <td>0.0</td>\n",
       "      <td>62.667612</td>\n",
       "      <td>40.069874</td>\n",
       "      <td>2024-09-09 16:00:00</td>\n",
       "      <td>29293562.0</td>\n",
       "    </tr>\n",
       "  </tbody>\n",
       "</table>\n",
       "<p>1525082 rows × 8 columns</p>\n",
       "</div>"
      ],
      "text/plain": [
       "           number                time            step  heightAboveGround  \\\n",
       "y    x                                                                     \n",
       "728  723        0 2024-09-07 15:00:00 2 days 01:00:00                0.0   \n",
       "     724        0 2024-09-07 15:00:00 2 days 01:00:00                0.0   \n",
       "     725        0 2024-09-07 15:00:00 2 days 01:00:00                0.0   \n",
       "     726        0 2024-09-07 15:00:00 2 days 01:00:00                0.0   \n",
       "     727        0 2024-09-07 15:00:00 2 days 01:00:00                0.0   \n",
       "...           ...                 ...             ...                ...   \n",
       "1605 1901       0 2024-09-07 15:00:00 2 days 01:00:00                0.0   \n",
       "     1902       0 2024-09-07 15:00:00 2 days 01:00:00                0.0   \n",
       "     1903       0 2024-09-07 15:00:00 2 days 01:00:00                0.0   \n",
       "     1904       0 2024-09-07 15:00:00 2 days 01:00:00                0.0   \n",
       "     1905       0 2024-09-07 15:00:00 2 days 01:00:00                0.0   \n",
       "\n",
       "            latitude   longitude          valid_time        grad  \n",
       "y    x                                                            \n",
       "728  723   54.300278  350.743824 2024-09-09 16:00:00  10598394.0  \n",
       "     724   54.300599  350.774635 2024-09-09 16:00:00  10593274.0  \n",
       "     725   54.300911  350.805446 2024-09-09 16:00:00  10285050.0  \n",
       "     726   54.301216  350.836257 2024-09-09 16:00:00   9970682.0  \n",
       "     727   54.301513  350.867069 2024-09-09 16:00:00   9882618.0  \n",
       "...              ...         ...                 ...         ...  \n",
       "1605 1901  62.713052   39.950011 2024-09-09 16:00:00  29107194.0  \n",
       "     1902  62.701702   39.980009 2024-09-09 16:00:00  29147130.0  \n",
       "     1903  62.690345   40.009985 2024-09-09 16:00:00  29162490.0  \n",
       "     1904  62.678982   40.039940 2024-09-09 16:00:00  29192186.0  \n",
       "     1905  62.667612   40.069874 2024-09-09 16:00:00  29293562.0  \n",
       "\n",
       "[1525082 rows x 8 columns]"
      ]
     },
     "execution_count": 31,
     "metadata": {},
     "output_type": "execute_result"
    }
   ],
   "source": [
    "ds.to_dataframe().query(\"latitude >= 54.300\")"
   ]
  },
  {
   "cell_type": "code",
   "execution_count": null,
   "metadata": {},
   "outputs": [],
   "source": [
    "dc = dc.to_dataframe()"
   ]
  },
  {
   "cell_type": "code",
   "execution_count": null,
   "metadata": {},
   "outputs": [],
   "source": [
    "df = df.set_index([\"time_utc\", \"created_time_utc\", \"altitude_m\"])"
   ]
  },
  {
   "cell_type": "code",
   "execution_count": null,
   "metadata": {},
   "outputs": [],
   "source": [
    "df"
   ]
  },
  {
   "cell_type": "code",
   "execution_count": null,
   "metadata": {},
   "outputs": [],
   "source": [
    "df.merge(dc, on=[\"latitude\", \"longitude\"])"
   ]
  },
  {
   "cell_type": "code",
   "execution_count": null,
   "metadata": {},
   "outputs": [],
   "source": [
    "ds = xr.Dataset.from_dataframe(df)"
   ]
  },
  {
   "cell_type": "code",
   "execution_count": null,
   "metadata": {},
   "outputs": [],
   "source": [
    "ds = ds.set_coords([\"time_utc\", \"altitude_m\", \"latitude\", \"longitude\", \"created_time_utc\"])"
   ]
  },
  {
   "cell_type": "code",
   "execution_count": null,
   "metadata": {},
   "outputs": [],
   "source": [
    "nwp = xr.Dataset.from_dataframe(df)"
   ]
  },
  {
   "cell_type": "code",
   "execution_count": null,
   "metadata": {},
   "outputs": [],
   "source": [
    "nwp"
   ]
  },
  {
   "cell_type": "code",
   "execution_count": null,
   "metadata": {},
   "outputs": [],
   "source": []
  }
 ],
 "metadata": {
  "kernelspec": {
   "display_name": "pvforecast-app",
   "language": "python",
   "name": "python3"
  },
  "language_info": {
   "codemirror_mode": {
    "name": "ipython",
    "version": 3
   },
   "file_extension": ".py",
   "mimetype": "text/x-python",
   "name": "python",
   "nbconvert_exporter": "python",
   "pygments_lexer": "ipython3",
   "version": "3.10.8"
  }
 },
 "nbformat": 4,
 "nbformat_minor": 2
}
