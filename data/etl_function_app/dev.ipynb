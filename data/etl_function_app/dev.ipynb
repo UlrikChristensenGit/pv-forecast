{
 "cells": [
  {
   "cell_type": "code",
   "execution_count": 1,
   "metadata": {},
   "outputs": [],
   "source": [
    "import duckdb"
   ]
  },
  {
   "cell_type": "code",
   "execution_count": 10,
   "metadata": {},
   "outputs": [
    {
     "name": "stdout",
     "output_type": "stream",
     "text": [
      "The autoreload extension is already loaded. To reload it, use:\n",
      "  %reload_ext autoreload\n"
     ]
    }
   ],
   "source": [
    "%load_ext autoreload\n",
    "%autoreload 2"
   ]
  },
  {
   "cell_type": "code",
   "execution_count": 11,
   "metadata": {},
   "outputs": [],
   "source": [
    "from logic import transformations, files\n",
    "import datetime as dt\n",
    "from pathlib import Path\n",
    "import xarray as xr\n",
    "from adlfs import AzureBlobFileSystem\n",
    "from azure.identity import DefaultAzureCredential\n",
    "from azure.storage.filedatalake import DataLakeServiceClient\n",
    "import zarr\n",
    "import pandas as pd\n",
    "import numpy as np\n",
    "import os\n",
    "import sparse"
   ]
  },
  {
   "cell_type": "code",
   "execution_count": 12,
   "metadata": {},
   "outputs": [],
   "source": [
    "client = DataLakeServiceClient(\n",
    "    account_url=\"{}://{}.dfs.core.windows.net\".format(\"https\", \"saenigmaarchiveprod\"),\n",
    "    credential=DefaultAzureCredential(),\n",
    ")"
   ]
  },
  {
   "cell_type": "code",
   "execution_count": 25,
   "metadata": {},
   "outputs": [],
   "source": [
    "fs_client = client.get_file_system_client(\"uniform\")"
   ]
  },
  {
   "cell_type": "code",
   "execution_count": 26,
   "metadata": {},
   "outputs": [],
   "source": [
    "file_client = fs_client.get_file_client(\"forecast_nwp_dmi_harmonie_dini_sf/schema_version=6f2c8ca4e0b854b8ab4f5691ff143357/year=2024/month=09/day=07/hour=20/2024-09-07T20-02-02.988228_b3c39ba5-776b-4b71-9b1e-f692b70a8c5a.parquet\")"
   ]
  },
  {
   "cell_type": "code",
   "execution_count": 27,
   "metadata": {},
   "outputs": [],
   "source": [
    "with open(\"/home/uch/PVForecast/data/.datalake/forecast_nwp_dmi_harmonie_dini_sf.parquet\", \"wb\") as f:\n",
    "    content = file_client.download_file().readall()\n",
    "    f.write(content)"
   ]
  },
  {
   "cell_type": "code",
   "execution_count": 15,
   "metadata": {},
   "outputs": [],
   "source": [
    "import pandas as pd"
   ]
  },
  {
   "cell_type": "code",
   "execution_count": 28,
   "metadata": {},
   "outputs": [],
   "source": [
    "df = pd.read_parquet(\"/home/uch/PVForecast/data/.datalake/forecast_nwp_dmi_harmonie_dini_sf.parquet\")"
   ]
  },
  {
   "cell_type": "code",
   "execution_count": 29,
   "metadata": {},
   "outputs": [
    {
     "data": {
      "text/html": [
       "<div>\n",
       "<style scoped>\n",
       "    .dataframe tbody tr th:only-of-type {\n",
       "        vertical-align: middle;\n",
       "    }\n",
       "\n",
       "    .dataframe tbody tr th {\n",
       "        vertical-align: top;\n",
       "    }\n",
       "\n",
       "    .dataframe thead th {\n",
       "        text-align: right;\n",
       "    }\n",
       "</style>\n",
       "<table border=\"1\" class=\"dataframe\">\n",
       "  <thead>\n",
       "    <tr style=\"text-align: right;\">\n",
       "      <th></th>\n",
       "      <th>latitude</th>\n",
       "      <th>longitude</th>\n",
       "      <th>time_utc</th>\n",
       "      <th>created_time_utc</th>\n",
       "      <th>forecast_value</th>\n",
       "      <th>parameter</th>\n",
       "      <th>altitude_m</th>\n",
       "    </tr>\n",
       "  </thead>\n",
       "  <tbody>\n",
       "    <tr>\n",
       "      <th>0</th>\n",
       "      <td>54.300426</td>\n",
       "      <td>7.007448</td>\n",
       "      <td>2024-09-09 16:00:00+00:00</td>\n",
       "      <td>2024-09-07 15:00:00+00:00</td>\n",
       "      <td>2.903856e+02</td>\n",
       "      <td>temperature</td>\n",
       "      <td>2</td>\n",
       "    </tr>\n",
       "    <tr>\n",
       "      <th>1</th>\n",
       "      <td>54.317991</td>\n",
       "      <td>7.014052</td>\n",
       "      <td>2024-09-09 16:00:00+00:00</td>\n",
       "      <td>2024-09-07 15:00:00+00:00</td>\n",
       "      <td>2.904041e+02</td>\n",
       "      <td>temperature</td>\n",
       "      <td>2</td>\n",
       "    </tr>\n",
       "    <tr>\n",
       "      <th>2</th>\n",
       "      <td>54.314134</td>\n",
       "      <td>7.044161</td>\n",
       "      <td>2024-09-09 16:00:00+00:00</td>\n",
       "      <td>2024-09-07 15:00:00+00:00</td>\n",
       "      <td>2.904090e+02</td>\n",
       "      <td>temperature</td>\n",
       "      <td>2</td>\n",
       "    </tr>\n",
       "    <tr>\n",
       "      <th>3</th>\n",
       "      <td>54.310269</td>\n",
       "      <td>7.074265</td>\n",
       "      <td>2024-09-09 16:00:00+00:00</td>\n",
       "      <td>2024-09-07 15:00:00+00:00</td>\n",
       "      <td>2.904236e+02</td>\n",
       "      <td>temperature</td>\n",
       "      <td>2</td>\n",
       "    </tr>\n",
       "    <tr>\n",
       "      <th>4</th>\n",
       "      <td>54.306397</td>\n",
       "      <td>7.104364</td>\n",
       "      <td>2024-09-09 16:00:00+00:00</td>\n",
       "      <td>2024-09-07 15:00:00+00:00</td>\n",
       "      <td>2.904461e+02</td>\n",
       "      <td>temperature</td>\n",
       "      <td>2</td>\n",
       "    </tr>\n",
       "    <tr>\n",
       "      <th>...</th>\n",
       "      <td>...</td>\n",
       "      <td>...</td>\n",
       "      <td>...</td>\n",
       "      <td>...</td>\n",
       "      <td>...</td>\n",
       "      <td>...</td>\n",
       "      <td>...</td>\n",
       "    </tr>\n",
       "    <tr>\n",
       "      <th>327987</th>\n",
       "      <td>55.365121</td>\n",
       "      <td>15.389465</td>\n",
       "      <td>2024-09-09 16:00:00+00:00</td>\n",
       "      <td>2024-09-07 15:00:00+00:00</td>\n",
       "      <td>2.011735e+07</td>\n",
       "      <td>accumulated_direct_radiation</td>\n",
       "      <td>0</td>\n",
       "    </tr>\n",
       "    <tr>\n",
       "      <th>327988</th>\n",
       "      <td>55.399885</td>\n",
       "      <td>15.310227</td>\n",
       "      <td>2024-09-09 16:00:00+00:00</td>\n",
       "      <td>2024-09-07 15:00:00+00:00</td>\n",
       "      <td>2.016650e+07</td>\n",
       "      <td>accumulated_direct_radiation</td>\n",
       "      <td>0</td>\n",
       "    </tr>\n",
       "    <tr>\n",
       "      <th>327989</th>\n",
       "      <td>55.393963</td>\n",
       "      <td>15.340132</td>\n",
       "      <td>2024-09-09 16:00:00+00:00</td>\n",
       "      <td>2024-09-07 15:00:00+00:00</td>\n",
       "      <td>2.026071e+07</td>\n",
       "      <td>accumulated_direct_radiation</td>\n",
       "      <td>0</td>\n",
       "    </tr>\n",
       "    <tr>\n",
       "      <th>327990</th>\n",
       "      <td>55.388034</td>\n",
       "      <td>15.370029</td>\n",
       "      <td>2024-09-09 16:00:00+00:00</td>\n",
       "      <td>2024-09-07 15:00:00+00:00</td>\n",
       "      <td>2.023511e+07</td>\n",
       "      <td>accumulated_direct_radiation</td>\n",
       "      <td>0</td>\n",
       "    </tr>\n",
       "    <tr>\n",
       "      <th>327991</th>\n",
       "      <td>55.382098</td>\n",
       "      <td>15.399916</td>\n",
       "      <td>2024-09-09 16:00:00+00:00</td>\n",
       "      <td>2024-09-07 15:00:00+00:00</td>\n",
       "      <td>2.020541e+07</td>\n",
       "      <td>accumulated_direct_radiation</td>\n",
       "      <td>0</td>\n",
       "    </tr>\n",
       "  </tbody>\n",
       "</table>\n",
       "<p>327992 rows × 7 columns</p>\n",
       "</div>"
      ],
      "text/plain": [
       "         latitude  longitude                  time_utc  \\\n",
       "0       54.300426   7.007448 2024-09-09 16:00:00+00:00   \n",
       "1       54.317991   7.014052 2024-09-09 16:00:00+00:00   \n",
       "2       54.314134   7.044161 2024-09-09 16:00:00+00:00   \n",
       "3       54.310269   7.074265 2024-09-09 16:00:00+00:00   \n",
       "4       54.306397   7.104364 2024-09-09 16:00:00+00:00   \n",
       "...           ...        ...                       ...   \n",
       "327987  55.365121  15.389465 2024-09-09 16:00:00+00:00   \n",
       "327988  55.399885  15.310227 2024-09-09 16:00:00+00:00   \n",
       "327989  55.393963  15.340132 2024-09-09 16:00:00+00:00   \n",
       "327990  55.388034  15.370029 2024-09-09 16:00:00+00:00   \n",
       "327991  55.382098  15.399916 2024-09-09 16:00:00+00:00   \n",
       "\n",
       "                created_time_utc  forecast_value  \\\n",
       "0      2024-09-07 15:00:00+00:00    2.903856e+02   \n",
       "1      2024-09-07 15:00:00+00:00    2.904041e+02   \n",
       "2      2024-09-07 15:00:00+00:00    2.904090e+02   \n",
       "3      2024-09-07 15:00:00+00:00    2.904236e+02   \n",
       "4      2024-09-07 15:00:00+00:00    2.904461e+02   \n",
       "...                          ...             ...   \n",
       "327987 2024-09-07 15:00:00+00:00    2.011735e+07   \n",
       "327988 2024-09-07 15:00:00+00:00    2.016650e+07   \n",
       "327989 2024-09-07 15:00:00+00:00    2.026071e+07   \n",
       "327990 2024-09-07 15:00:00+00:00    2.023511e+07   \n",
       "327991 2024-09-07 15:00:00+00:00    2.020541e+07   \n",
       "\n",
       "                           parameter  altitude_m  \n",
       "0                        temperature           2  \n",
       "1                        temperature           2  \n",
       "2                        temperature           2  \n",
       "3                        temperature           2  \n",
       "4                        temperature           2  \n",
       "...                              ...         ...  \n",
       "327987  accumulated_direct_radiation           0  \n",
       "327988  accumulated_direct_radiation           0  \n",
       "327989  accumulated_direct_radiation           0  \n",
       "327990  accumulated_direct_radiation           0  \n",
       "327991  accumulated_direct_radiation           0  \n",
       "\n",
       "[327992 rows x 7 columns]"
      ]
     },
     "execution_count": 29,
     "metadata": {},
     "output_type": "execute_result"
    }
   ],
   "source": [
    "df"
   ]
  },
  {
   "cell_type": "code",
   "execution_count": 64,
   "metadata": {},
   "outputs": [],
   "source": [
    "with open(\"ds1.nc\", \"wb\") as f:\n",
    "    file_client = client.get_file_client(\"analysis\", \"uch/netcdf/date=2024-06-08/20240608T000000Z_20240606T180000Z.nc\")\n",
    "    f.write(file_client.download_file().readall())"
   ]
  },
  {
   "cell_type": "code",
   "execution_count": 3,
   "metadata": {},
   "outputs": [],
   "source": [
    "ds1 = xr.open_dataset(\"ds1.nc\")"
   ]
  },
  {
   "cell_type": "code",
   "execution_count": 21,
   "metadata": {},
   "outputs": [],
   "source": [
    "dst = ds1.where(1==0)\n",
    "dst = xr.zeros_like(ds1)"
   ]
  },
  {
   "cell_type": "code",
   "execution_count": 28,
   "metadata": {},
   "outputs": [
    {
     "data": {
      "text/html": [
       "<div><svg style=\"position: absolute; width: 0; height: 0; overflow: hidden\">\n",
       "<defs>\n",
       "<symbol id=\"icon-database\" viewBox=\"0 0 32 32\">\n",
       "<path d=\"M16 0c-8.837 0-16 2.239-16 5v4c0 2.761 7.163 5 16 5s16-2.239 16-5v-4c0-2.761-7.163-5-16-5z\"></path>\n",
       "<path d=\"M16 17c-8.837 0-16-2.239-16-5v6c0 2.761 7.163 5 16 5s16-2.239 16-5v-6c0 2.761-7.163 5-16 5z\"></path>\n",
       "<path d=\"M16 26c-8.837 0-16-2.239-16-5v6c0 2.761 7.163 5 16 5s16-2.239 16-5v-6c0 2.761-7.163 5-16 5z\"></path>\n",
       "</symbol>\n",
       "<symbol id=\"icon-file-text2\" viewBox=\"0 0 32 32\">\n",
       "<path d=\"M28.681 7.159c-0.694-0.947-1.662-2.053-2.724-3.116s-2.169-2.030-3.116-2.724c-1.612-1.182-2.393-1.319-2.841-1.319h-15.5c-1.378 0-2.5 1.121-2.5 2.5v27c0 1.378 1.122 2.5 2.5 2.5h23c1.378 0 2.5-1.122 2.5-2.5v-19.5c0-0.448-0.137-1.23-1.319-2.841zM24.543 5.457c0.959 0.959 1.712 1.825 2.268 2.543h-4.811v-4.811c0.718 0.556 1.584 1.309 2.543 2.268zM28 29.5c0 0.271-0.229 0.5-0.5 0.5h-23c-0.271 0-0.5-0.229-0.5-0.5v-27c0-0.271 0.229-0.5 0.5-0.5 0 0 15.499-0 15.5 0v7c0 0.552 0.448 1 1 1h7v19.5z\"></path>\n",
       "<path d=\"M23 26h-14c-0.552 0-1-0.448-1-1s0.448-1 1-1h14c0.552 0 1 0.448 1 1s-0.448 1-1 1z\"></path>\n",
       "<path d=\"M23 22h-14c-0.552 0-1-0.448-1-1s0.448-1 1-1h14c0.552 0 1 0.448 1 1s-0.448 1-1 1z\"></path>\n",
       "<path d=\"M23 18h-14c-0.552 0-1-0.448-1-1s0.448-1 1-1h14c0.552 0 1 0.448 1 1s-0.448 1-1 1z\"></path>\n",
       "</symbol>\n",
       "</defs>\n",
       "</svg>\n",
       "<style>/* CSS stylesheet for displaying xarray objects in jupyterlab.\n",
       " *\n",
       " */\n",
       "\n",
       ":root {\n",
       "  --xr-font-color0: var(--jp-content-font-color0, rgba(0, 0, 0, 1));\n",
       "  --xr-font-color2: var(--jp-content-font-color2, rgba(0, 0, 0, 0.54));\n",
       "  --xr-font-color3: var(--jp-content-font-color3, rgba(0, 0, 0, 0.38));\n",
       "  --xr-border-color: var(--jp-border-color2, #e0e0e0);\n",
       "  --xr-disabled-color: var(--jp-layout-color3, #bdbdbd);\n",
       "  --xr-background-color: var(--jp-layout-color0, white);\n",
       "  --xr-background-color-row-even: var(--jp-layout-color1, white);\n",
       "  --xr-background-color-row-odd: var(--jp-layout-color2, #eeeeee);\n",
       "}\n",
       "\n",
       "html[theme=dark],\n",
       "body[data-theme=dark],\n",
       "body.vscode-dark {\n",
       "  --xr-font-color0: rgba(255, 255, 255, 1);\n",
       "  --xr-font-color2: rgba(255, 255, 255, 0.54);\n",
       "  --xr-font-color3: rgba(255, 255, 255, 0.38);\n",
       "  --xr-border-color: #1F1F1F;\n",
       "  --xr-disabled-color: #515151;\n",
       "  --xr-background-color: #111111;\n",
       "  --xr-background-color-row-even: #111111;\n",
       "  --xr-background-color-row-odd: #313131;\n",
       "}\n",
       "\n",
       ".xr-wrap {\n",
       "  display: block !important;\n",
       "  min-width: 300px;\n",
       "  max-width: 700px;\n",
       "}\n",
       "\n",
       ".xr-text-repr-fallback {\n",
       "  /* fallback to plain text repr when CSS is not injected (untrusted notebook) */\n",
       "  display: none;\n",
       "}\n",
       "\n",
       ".xr-header {\n",
       "  padding-top: 6px;\n",
       "  padding-bottom: 6px;\n",
       "  margin-bottom: 4px;\n",
       "  border-bottom: solid 1px var(--xr-border-color);\n",
       "}\n",
       "\n",
       ".xr-header > div,\n",
       ".xr-header > ul {\n",
       "  display: inline;\n",
       "  margin-top: 0;\n",
       "  margin-bottom: 0;\n",
       "}\n",
       "\n",
       ".xr-obj-type,\n",
       ".xr-array-name {\n",
       "  margin-left: 2px;\n",
       "  margin-right: 10px;\n",
       "}\n",
       "\n",
       ".xr-obj-type {\n",
       "  color: var(--xr-font-color2);\n",
       "}\n",
       "\n",
       ".xr-sections {\n",
       "  padding-left: 0 !important;\n",
       "  display: grid;\n",
       "  grid-template-columns: 150px auto auto 1fr 20px 20px;\n",
       "}\n",
       "\n",
       ".xr-section-item {\n",
       "  display: contents;\n",
       "}\n",
       "\n",
       ".xr-section-item input {\n",
       "  display: none;\n",
       "}\n",
       "\n",
       ".xr-section-item input + label {\n",
       "  color: var(--xr-disabled-color);\n",
       "}\n",
       "\n",
       ".xr-section-item input:enabled + label {\n",
       "  cursor: pointer;\n",
       "  color: var(--xr-font-color2);\n",
       "}\n",
       "\n",
       ".xr-section-item input:enabled + label:hover {\n",
       "  color: var(--xr-font-color0);\n",
       "}\n",
       "\n",
       ".xr-section-summary {\n",
       "  grid-column: 1;\n",
       "  color: var(--xr-font-color2);\n",
       "  font-weight: 500;\n",
       "}\n",
       "\n",
       ".xr-section-summary > span {\n",
       "  display: inline-block;\n",
       "  padding-left: 0.5em;\n",
       "}\n",
       "\n",
       ".xr-section-summary-in:disabled + label {\n",
       "  color: var(--xr-font-color2);\n",
       "}\n",
       "\n",
       ".xr-section-summary-in + label:before {\n",
       "  display: inline-block;\n",
       "  content: '►';\n",
       "  font-size: 11px;\n",
       "  width: 15px;\n",
       "  text-align: center;\n",
       "}\n",
       "\n",
       ".xr-section-summary-in:disabled + label:before {\n",
       "  color: var(--xr-disabled-color);\n",
       "}\n",
       "\n",
       ".xr-section-summary-in:checked + label:before {\n",
       "  content: '▼';\n",
       "}\n",
       "\n",
       ".xr-section-summary-in:checked + label > span {\n",
       "  display: none;\n",
       "}\n",
       "\n",
       ".xr-section-summary,\n",
       ".xr-section-inline-details {\n",
       "  padding-top: 4px;\n",
       "  padding-bottom: 4px;\n",
       "}\n",
       "\n",
       ".xr-section-inline-details {\n",
       "  grid-column: 2 / -1;\n",
       "}\n",
       "\n",
       ".xr-section-details {\n",
       "  display: none;\n",
       "  grid-column: 1 / -1;\n",
       "  margin-bottom: 5px;\n",
       "}\n",
       "\n",
       ".xr-section-summary-in:checked ~ .xr-section-details {\n",
       "  display: contents;\n",
       "}\n",
       "\n",
       ".xr-array-wrap {\n",
       "  grid-column: 1 / -1;\n",
       "  display: grid;\n",
       "  grid-template-columns: 20px auto;\n",
       "}\n",
       "\n",
       ".xr-array-wrap > label {\n",
       "  grid-column: 1;\n",
       "  vertical-align: top;\n",
       "}\n",
       "\n",
       ".xr-preview {\n",
       "  color: var(--xr-font-color3);\n",
       "}\n",
       "\n",
       ".xr-array-preview,\n",
       ".xr-array-data {\n",
       "  padding: 0 5px !important;\n",
       "  grid-column: 2;\n",
       "}\n",
       "\n",
       ".xr-array-data,\n",
       ".xr-array-in:checked ~ .xr-array-preview {\n",
       "  display: none;\n",
       "}\n",
       "\n",
       ".xr-array-in:checked ~ .xr-array-data,\n",
       ".xr-array-preview {\n",
       "  display: inline-block;\n",
       "}\n",
       "\n",
       ".xr-dim-list {\n",
       "  display: inline-block !important;\n",
       "  list-style: none;\n",
       "  padding: 0 !important;\n",
       "  margin: 0;\n",
       "}\n",
       "\n",
       ".xr-dim-list li {\n",
       "  display: inline-block;\n",
       "  padding: 0;\n",
       "  margin: 0;\n",
       "}\n",
       "\n",
       ".xr-dim-list:before {\n",
       "  content: '(';\n",
       "}\n",
       "\n",
       ".xr-dim-list:after {\n",
       "  content: ')';\n",
       "}\n",
       "\n",
       ".xr-dim-list li:not(:last-child):after {\n",
       "  content: ',';\n",
       "  padding-right: 5px;\n",
       "}\n",
       "\n",
       ".xr-has-index {\n",
       "  font-weight: bold;\n",
       "}\n",
       "\n",
       ".xr-var-list,\n",
       ".xr-var-item {\n",
       "  display: contents;\n",
       "}\n",
       "\n",
       ".xr-var-item > div,\n",
       ".xr-var-item label,\n",
       ".xr-var-item > .xr-var-name span {\n",
       "  background-color: var(--xr-background-color-row-even);\n",
       "  margin-bottom: 0;\n",
       "}\n",
       "\n",
       ".xr-var-item > .xr-var-name:hover span {\n",
       "  padding-right: 5px;\n",
       "}\n",
       "\n",
       ".xr-var-list > li:nth-child(odd) > div,\n",
       ".xr-var-list > li:nth-child(odd) > label,\n",
       ".xr-var-list > li:nth-child(odd) > .xr-var-name span {\n",
       "  background-color: var(--xr-background-color-row-odd);\n",
       "}\n",
       "\n",
       ".xr-var-name {\n",
       "  grid-column: 1;\n",
       "}\n",
       "\n",
       ".xr-var-dims {\n",
       "  grid-column: 2;\n",
       "}\n",
       "\n",
       ".xr-var-dtype {\n",
       "  grid-column: 3;\n",
       "  text-align: right;\n",
       "  color: var(--xr-font-color2);\n",
       "}\n",
       "\n",
       ".xr-var-preview {\n",
       "  grid-column: 4;\n",
       "}\n",
       "\n",
       ".xr-index-preview {\n",
       "  grid-column: 2 / 5;\n",
       "  color: var(--xr-font-color2);\n",
       "}\n",
       "\n",
       ".xr-var-name,\n",
       ".xr-var-dims,\n",
       ".xr-var-dtype,\n",
       ".xr-preview,\n",
       ".xr-attrs dt {\n",
       "  white-space: nowrap;\n",
       "  overflow: hidden;\n",
       "  text-overflow: ellipsis;\n",
       "  padding-right: 10px;\n",
       "}\n",
       "\n",
       ".xr-var-name:hover,\n",
       ".xr-var-dims:hover,\n",
       ".xr-var-dtype:hover,\n",
       ".xr-attrs dt:hover {\n",
       "  overflow: visible;\n",
       "  width: auto;\n",
       "  z-index: 1;\n",
       "}\n",
       "\n",
       ".xr-var-attrs,\n",
       ".xr-var-data,\n",
       ".xr-index-data {\n",
       "  display: none;\n",
       "  background-color: var(--xr-background-color) !important;\n",
       "  padding-bottom: 5px !important;\n",
       "}\n",
       "\n",
       ".xr-var-attrs-in:checked ~ .xr-var-attrs,\n",
       ".xr-var-data-in:checked ~ .xr-var-data,\n",
       ".xr-index-data-in:checked ~ .xr-index-data {\n",
       "  display: block;\n",
       "}\n",
       "\n",
       ".xr-var-data > table {\n",
       "  float: right;\n",
       "}\n",
       "\n",
       ".xr-var-name span,\n",
       ".xr-var-data,\n",
       ".xr-index-name div,\n",
       ".xr-index-data,\n",
       ".xr-attrs {\n",
       "  padding-left: 25px !important;\n",
       "}\n",
       "\n",
       ".xr-attrs,\n",
       ".xr-var-attrs,\n",
       ".xr-var-data,\n",
       ".xr-index-data {\n",
       "  grid-column: 1 / -1;\n",
       "}\n",
       "\n",
       "dl.xr-attrs {\n",
       "  padding: 0;\n",
       "  margin: 0;\n",
       "  display: grid;\n",
       "  grid-template-columns: 125px auto;\n",
       "}\n",
       "\n",
       ".xr-attrs dt,\n",
       ".xr-attrs dd {\n",
       "  padding: 0;\n",
       "  margin: 0;\n",
       "  float: left;\n",
       "  padding-right: 10px;\n",
       "  width: auto;\n",
       "}\n",
       "\n",
       ".xr-attrs dt {\n",
       "  font-weight: normal;\n",
       "  grid-column: 1;\n",
       "}\n",
       "\n",
       ".xr-attrs dt:hover span {\n",
       "  display: inline-block;\n",
       "  background: var(--xr-background-color);\n",
       "  padding-right: 10px;\n",
       "}\n",
       "\n",
       ".xr-attrs dd {\n",
       "  grid-column: 2;\n",
       "  white-space: pre-wrap;\n",
       "  word-break: break-all;\n",
       "}\n",
       "\n",
       ".xr-icon-database,\n",
       ".xr-icon-file-text2,\n",
       ".xr-no-icon {\n",
       "  display: inline-block;\n",
       "  vertical-align: middle;\n",
       "  width: 1em;\n",
       "  height: 1.5em !important;\n",
       "  stroke-width: 0;\n",
       "  stroke: currentColor;\n",
       "  fill: currentColor;\n",
       "}\n",
       "</style><pre class='xr-text-repr-fallback'>&lt;xarray.Dataset&gt; Size: 110MB\n",
       "Dimensions:                            (y: 1606, x: 1906)\n",
       "Coordinates:\n",
       "    latitude                           (y, x) float64 24MB ...\n",
       "    longitude                          (y, x) float64 24MB ...\n",
       "    number                             int32 4B ...\n",
       "    calculation_time_utc               datetime64[ns] 8B ...\n",
       "    step                               timedelta64[ns] 8B ...\n",
       "    time_utc                           datetime64[ns] 8B ...\n",
       "Dimensions without coordinates: y, x\n",
       "Data variables:\n",
       "    temperature_K                      (y, x) float32 12MB 0.0 0.0 ... 0.0 0.0\n",
       "    wind_u_m_s                         (y, x) float32 12MB 0.0 0.0 ... 0.0 0.0\n",
       "    wind_v_m_s                         (y, x) float32 12MB 0.0 0.0 ... 0.0 0.0\n",
       "    accumulated_direct_radiation_W_m2  (y, x) float32 12MB 0.0 0.0 ... 0.0 0.0\n",
       "    accumulated_global_radiation_W_m2  (y, x) float32 12MB 0.0 0.0 ... 0.0 0.0\n",
       "Attributes:\n",
       "    GRIB_edition:            2\n",
       "    GRIB_centre:             ekmi\n",
       "    GRIB_centreDescription:  Copenhagen\n",
       "    GRIB_subCentre:          255\n",
       "    Conventions:             CF-1.7\n",
       "    institution:             Copenhagen\n",
       "    history:                 2024-08-08T13:31 GRIB to CDM+CF via cfgrib-0.9.1...\n",
       "    parameter:               temperature</pre><div class='xr-wrap' style='display:none'><div class='xr-header'><div class='xr-obj-type'>xarray.Dataset</div></div><ul class='xr-sections'><li class='xr-section-item'><input id='section-e8d0260f-59f1-4378-9902-23fdb9b28c25' class='xr-section-summary-in' type='checkbox' disabled ><label for='section-e8d0260f-59f1-4378-9902-23fdb9b28c25' class='xr-section-summary'  title='Expand/collapse section'>Dimensions:</label><div class='xr-section-inline-details'><ul class='xr-dim-list'><li><span>y</span>: 1606</li><li><span>x</span>: 1906</li></ul></div><div class='xr-section-details'></div></li><li class='xr-section-item'><input id='section-a56963ad-6f61-464f-87e1-ae7b0ef9e215' class='xr-section-summary-in' type='checkbox'  checked><label for='section-a56963ad-6f61-464f-87e1-ae7b0ef9e215' class='xr-section-summary' >Coordinates: <span>(6)</span></label><div class='xr-section-inline-details'></div><div class='xr-section-details'><ul class='xr-var-list'><li class='xr-var-item'><div class='xr-var-name'><span>latitude</span></div><div class='xr-var-dims'>(y, x)</div><div class='xr-var-dtype'>float64</div><div class='xr-var-preview xr-preview'>...</div><input id='attrs-471e476f-3463-495c-bafe-f31dc2985343' class='xr-var-attrs-in' type='checkbox' ><label for='attrs-471e476f-3463-495c-bafe-f31dc2985343' title='Show/Hide attributes'><svg class='icon xr-icon-file-text2'><use xlink:href='#icon-file-text2'></use></svg></label><input id='data-ebac59e0-db2e-41a0-8987-ec01243ee208' class='xr-var-data-in' type='checkbox'><label for='data-ebac59e0-db2e-41a0-8987-ec01243ee208' title='Show/Hide data repr'><svg class='icon xr-icon-database'><use xlink:href='#icon-database'></use></svg></label><div class='xr-var-attrs'><dl class='xr-attrs'><dt><span>units :</span></dt><dd>degrees_north</dd><dt><span>standard_name :</span></dt><dd>latitude</dd><dt><span>long_name :</span></dt><dd>latitude</dd></dl></div><div class='xr-var-data'><pre>[3061036 values with dtype=float64]</pre></div></li><li class='xr-var-item'><div class='xr-var-name'><span>longitude</span></div><div class='xr-var-dims'>(y, x)</div><div class='xr-var-dtype'>float64</div><div class='xr-var-preview xr-preview'>...</div><input id='attrs-c5100946-2a07-453c-92be-2f4b5e7f352a' class='xr-var-attrs-in' type='checkbox' ><label for='attrs-c5100946-2a07-453c-92be-2f4b5e7f352a' title='Show/Hide attributes'><svg class='icon xr-icon-file-text2'><use xlink:href='#icon-file-text2'></use></svg></label><input id='data-5edf76bb-c8a3-4009-be0a-84f0f4ff6305' class='xr-var-data-in' type='checkbox'><label for='data-5edf76bb-c8a3-4009-be0a-84f0f4ff6305' title='Show/Hide data repr'><svg class='icon xr-icon-database'><use xlink:href='#icon-database'></use></svg></label><div class='xr-var-attrs'><dl class='xr-attrs'><dt><span>units :</span></dt><dd>degrees_east</dd><dt><span>standard_name :</span></dt><dd>longitude</dd><dt><span>long_name :</span></dt><dd>longitude</dd></dl></div><div class='xr-var-data'><pre>[3061036 values with dtype=float64]</pre></div></li><li class='xr-var-item'><div class='xr-var-name'><span>number</span></div><div class='xr-var-dims'>()</div><div class='xr-var-dtype'>int32</div><div class='xr-var-preview xr-preview'>...</div><input id='attrs-0ed3687d-7074-4e84-80b2-7a9c16cd661c' class='xr-var-attrs-in' type='checkbox' ><label for='attrs-0ed3687d-7074-4e84-80b2-7a9c16cd661c' title='Show/Hide attributes'><svg class='icon xr-icon-file-text2'><use xlink:href='#icon-file-text2'></use></svg></label><input id='data-04e602e6-b195-45b2-963f-bc037e906afd' class='xr-var-data-in' type='checkbox'><label for='data-04e602e6-b195-45b2-963f-bc037e906afd' title='Show/Hide data repr'><svg class='icon xr-icon-database'><use xlink:href='#icon-database'></use></svg></label><div class='xr-var-attrs'><dl class='xr-attrs'><dt><span>long_name :</span></dt><dd>ensemble member numerical id</dd><dt><span>units :</span></dt><dd>1</dd><dt><span>standard_name :</span></dt><dd>realization</dd></dl></div><div class='xr-var-data'><pre>[1 values with dtype=int32]</pre></div></li><li class='xr-var-item'><div class='xr-var-name'><span>calculation_time_utc</span></div><div class='xr-var-dims'>()</div><div class='xr-var-dtype'>datetime64[ns]</div><div class='xr-var-preview xr-preview'>...</div><input id='attrs-880e52db-f2f5-4e97-a4ac-64eb0940550a' class='xr-var-attrs-in' type='checkbox' ><label for='attrs-880e52db-f2f5-4e97-a4ac-64eb0940550a' title='Show/Hide attributes'><svg class='icon xr-icon-file-text2'><use xlink:href='#icon-file-text2'></use></svg></label><input id='data-7245ec97-a574-48ae-bc35-460d543e1aa0' class='xr-var-data-in' type='checkbox'><label for='data-7245ec97-a574-48ae-bc35-460d543e1aa0' title='Show/Hide data repr'><svg class='icon xr-icon-database'><use xlink:href='#icon-database'></use></svg></label><div class='xr-var-attrs'><dl class='xr-attrs'><dt><span>long_name :</span></dt><dd>initial time of forecast</dd><dt><span>standard_name :</span></dt><dd>forecast_reference_time</dd></dl></div><div class='xr-var-data'><pre>[1 values with dtype=datetime64[ns]]</pre></div></li><li class='xr-var-item'><div class='xr-var-name'><span>step</span></div><div class='xr-var-dims'>()</div><div class='xr-var-dtype'>timedelta64[ns]</div><div class='xr-var-preview xr-preview'>...</div><input id='attrs-2daf8dd2-7b33-4068-93fc-6fcba416ee99' class='xr-var-attrs-in' type='checkbox' ><label for='attrs-2daf8dd2-7b33-4068-93fc-6fcba416ee99' title='Show/Hide attributes'><svg class='icon xr-icon-file-text2'><use xlink:href='#icon-file-text2'></use></svg></label><input id='data-c79bd139-3a61-4e7d-bb77-0837513b326f' class='xr-var-data-in' type='checkbox'><label for='data-c79bd139-3a61-4e7d-bb77-0837513b326f' title='Show/Hide data repr'><svg class='icon xr-icon-database'><use xlink:href='#icon-database'></use></svg></label><div class='xr-var-attrs'><dl class='xr-attrs'><dt><span>long_name :</span></dt><dd>time since forecast_reference_time</dd><dt><span>standard_name :</span></dt><dd>forecast_period</dd></dl></div><div class='xr-var-data'><pre>[1 values with dtype=timedelta64[ns]]</pre></div></li><li class='xr-var-item'><div class='xr-var-name'><span>time_utc</span></div><div class='xr-var-dims'>()</div><div class='xr-var-dtype'>datetime64[ns]</div><div class='xr-var-preview xr-preview'>...</div><input id='attrs-18cf90d1-53bf-4187-a85a-788c1307bbdb' class='xr-var-attrs-in' type='checkbox' ><label for='attrs-18cf90d1-53bf-4187-a85a-788c1307bbdb' title='Show/Hide attributes'><svg class='icon xr-icon-file-text2'><use xlink:href='#icon-file-text2'></use></svg></label><input id='data-8d478582-a146-48a7-b0e6-e1a2ef7bfcdf' class='xr-var-data-in' type='checkbox'><label for='data-8d478582-a146-48a7-b0e6-e1a2ef7bfcdf' title='Show/Hide data repr'><svg class='icon xr-icon-database'><use xlink:href='#icon-database'></use></svg></label><div class='xr-var-attrs'><dl class='xr-attrs'><dt><span>standard_name :</span></dt><dd>time</dd><dt><span>long_name :</span></dt><dd>time</dd></dl></div><div class='xr-var-data'><pre>[1 values with dtype=datetime64[ns]]</pre></div></li></ul></div></li><li class='xr-section-item'><input id='section-8c92e614-115d-4893-b36d-d4e1cfaaa7cb' class='xr-section-summary-in' type='checkbox'  checked><label for='section-8c92e614-115d-4893-b36d-d4e1cfaaa7cb' class='xr-section-summary' >Data variables: <span>(5)</span></label><div class='xr-section-inline-details'></div><div class='xr-section-details'><ul class='xr-var-list'><li class='xr-var-item'><div class='xr-var-name'><span>temperature_K</span></div><div class='xr-var-dims'>(y, x)</div><div class='xr-var-dtype'>float32</div><div class='xr-var-preview xr-preview'>0.0 0.0 0.0 0.0 ... 0.0 0.0 0.0 0.0</div><input id='attrs-78e84424-eb98-46c8-9448-0fdc67f83cea' class='xr-var-attrs-in' type='checkbox' ><label for='attrs-78e84424-eb98-46c8-9448-0fdc67f83cea' title='Show/Hide attributes'><svg class='icon xr-icon-file-text2'><use xlink:href='#icon-file-text2'></use></svg></label><input id='data-696f9b9f-995d-441f-9ba8-8fb18fbe4227' class='xr-var-data-in' type='checkbox'><label for='data-696f9b9f-995d-441f-9ba8-8fb18fbe4227' title='Show/Hide data repr'><svg class='icon xr-icon-database'><use xlink:href='#icon-database'></use></svg></label><div class='xr-var-attrs'><dl class='xr-attrs'><dt><span>GRIB_paramId :</span></dt><dd>167</dd><dt><span>GRIB_dataType :</span></dt><dd>cf</dd><dt><span>GRIB_numberOfPoints :</span></dt><dd>3061036</dd><dt><span>GRIB_typeOfLevel :</span></dt><dd>heightAboveGround</dd><dt><span>GRIB_stepUnits :</span></dt><dd>1</dd><dt><span>GRIB_stepType :</span></dt><dd>instant</dd><dt><span>GRIB_gridType :</span></dt><dd>lambert</dd><dt><span>GRIB_DxInMetres :</span></dt><dd>2000.0</dd><dt><span>GRIB_DyInMetres :</span></dt><dd>2000.0</dd><dt><span>GRIB_LaDInDegrees :</span></dt><dd>55.5</dd><dt><span>GRIB_Latin1InDegrees :</span></dt><dd>55.5</dd><dt><span>GRIB_Latin2InDegrees :</span></dt><dd>55.5</dd><dt><span>GRIB_LoVInDegrees :</span></dt><dd>352.0</dd><dt><span>GRIB_NV :</span></dt><dd>182</dd><dt><span>GRIB_Nx :</span></dt><dd>1906</dd><dt><span>GRIB_Ny :</span></dt><dd>1606</dd><dt><span>GRIB_cfName :</span></dt><dd>air_temperature</dd><dt><span>GRIB_cfVarName :</span></dt><dd>t2m</dd><dt><span>GRIB_gridDefinitionDescription :</span></dt><dd>Lambert conformal</dd><dt><span>GRIB_iScansNegatively :</span></dt><dd>0</dd><dt><span>GRIB_jPointsAreConsecutive :</span></dt><dd>0</dd><dt><span>GRIB_jScansPositively :</span></dt><dd>1</dd><dt><span>GRIB_latitudeOfFirstGridPointInDegrees :</span></dt><dd>39.671</dd><dt><span>GRIB_latitudeOfSouthernPoleInDegrees :</span></dt><dd>-90.0</dd><dt><span>GRIB_longitudeOfFirstGridPointInDegrees :</span></dt><dd>334.578</dd><dt><span>GRIB_longitudeOfSouthernPoleInDegrees :</span></dt><dd>0.0</dd><dt><span>GRIB_missingValue :</span></dt><dd>3.4028234663852886e+38</dd><dt><span>GRIB_name :</span></dt><dd>2 metre temperature</dd><dt><span>GRIB_shortName :</span></dt><dd>2t</dd><dt><span>GRIB_totalNumber :</span></dt><dd>31</dd><dt><span>GRIB_units :</span></dt><dd>K</dd><dt><span>long_name :</span></dt><dd>2 metre temperature</dd><dt><span>units :</span></dt><dd>K</dd><dt><span>standard_name :</span></dt><dd>air_temperature</dd></dl></div><div class='xr-var-data'><pre>array([[0., 0., 0., ..., 0., 0., 0.],\n",
       "       [0., 0., 0., ..., 0., 0., 0.],\n",
       "       [0., 0., 0., ..., 0., 0., 0.],\n",
       "       ...,\n",
       "       [0., 0., 0., ..., 0., 0., 0.],\n",
       "       [0., 0., 0., ..., 0., 0., 0.],\n",
       "       [0., 0., 0., ..., 0., 0., 0.]], dtype=float32)</pre></div></li><li class='xr-var-item'><div class='xr-var-name'><span>wind_u_m_s</span></div><div class='xr-var-dims'>(y, x)</div><div class='xr-var-dtype'>float32</div><div class='xr-var-preview xr-preview'>0.0 0.0 0.0 0.0 ... 0.0 0.0 0.0 0.0</div><input id='attrs-8daccae7-aa41-4e44-a135-fd39f0b6c201' class='xr-var-attrs-in' type='checkbox' ><label for='attrs-8daccae7-aa41-4e44-a135-fd39f0b6c201' title='Show/Hide attributes'><svg class='icon xr-icon-file-text2'><use xlink:href='#icon-file-text2'></use></svg></label><input id='data-87e30777-f7a3-4498-8aa5-94c821ab5de3' class='xr-var-data-in' type='checkbox'><label for='data-87e30777-f7a3-4498-8aa5-94c821ab5de3' title='Show/Hide data repr'><svg class='icon xr-icon-database'><use xlink:href='#icon-database'></use></svg></label><div class='xr-var-attrs'><dl class='xr-attrs'><dt><span>GRIB_paramId :</span></dt><dd>165</dd><dt><span>GRIB_dataType :</span></dt><dd>cf</dd><dt><span>GRIB_numberOfPoints :</span></dt><dd>3061036</dd><dt><span>GRIB_typeOfLevel :</span></dt><dd>heightAboveGround</dd><dt><span>GRIB_stepUnits :</span></dt><dd>1</dd><dt><span>GRIB_stepType :</span></dt><dd>instant</dd><dt><span>GRIB_gridType :</span></dt><dd>lambert</dd><dt><span>GRIB_DxInMetres :</span></dt><dd>2000.0</dd><dt><span>GRIB_DyInMetres :</span></dt><dd>2000.0</dd><dt><span>GRIB_LaDInDegrees :</span></dt><dd>55.5</dd><dt><span>GRIB_Latin1InDegrees :</span></dt><dd>55.5</dd><dt><span>GRIB_Latin2InDegrees :</span></dt><dd>55.5</dd><dt><span>GRIB_LoVInDegrees :</span></dt><dd>352.0</dd><dt><span>GRIB_NV :</span></dt><dd>182</dd><dt><span>GRIB_Nx :</span></dt><dd>1906</dd><dt><span>GRIB_Ny :</span></dt><dd>1606</dd><dt><span>GRIB_cfName :</span></dt><dd>eastward_wind</dd><dt><span>GRIB_cfVarName :</span></dt><dd>u10</dd><dt><span>GRIB_gridDefinitionDescription :</span></dt><dd>Lambert conformal</dd><dt><span>GRIB_iScansNegatively :</span></dt><dd>0</dd><dt><span>GRIB_jPointsAreConsecutive :</span></dt><dd>0</dd><dt><span>GRIB_jScansPositively :</span></dt><dd>1</dd><dt><span>GRIB_latitudeOfFirstGridPointInDegrees :</span></dt><dd>39.671</dd><dt><span>GRIB_latitudeOfSouthernPoleInDegrees :</span></dt><dd>-90.0</dd><dt><span>GRIB_longitudeOfFirstGridPointInDegrees :</span></dt><dd>334.578</dd><dt><span>GRIB_longitudeOfSouthernPoleInDegrees :</span></dt><dd>0.0</dd><dt><span>GRIB_missingValue :</span></dt><dd>3.4028234663852886e+38</dd><dt><span>GRIB_name :</span></dt><dd>10 metre U wind component</dd><dt><span>GRIB_shortName :</span></dt><dd>10u</dd><dt><span>GRIB_totalNumber :</span></dt><dd>31</dd><dt><span>GRIB_units :</span></dt><dd>m s**-1</dd><dt><span>long_name :</span></dt><dd>10 metre U wind component</dd><dt><span>units :</span></dt><dd>m s**-1</dd><dt><span>standard_name :</span></dt><dd>eastward_wind</dd></dl></div><div class='xr-var-data'><pre>array([[0., 0., 0., ..., 0., 0., 0.],\n",
       "       [0., 0., 0., ..., 0., 0., 0.],\n",
       "       [0., 0., 0., ..., 0., 0., 0.],\n",
       "       ...,\n",
       "       [0., 0., 0., ..., 0., 0., 0.],\n",
       "       [0., 0., 0., ..., 0., 0., 0.],\n",
       "       [0., 0., 0., ..., 0., 0., 0.]], dtype=float32)</pre></div></li><li class='xr-var-item'><div class='xr-var-name'><span>wind_v_m_s</span></div><div class='xr-var-dims'>(y, x)</div><div class='xr-var-dtype'>float32</div><div class='xr-var-preview xr-preview'>0.0 0.0 0.0 0.0 ... 0.0 0.0 0.0 0.0</div><input id='attrs-21609f73-19a5-44a3-8667-b7bfdc5f2f84' class='xr-var-attrs-in' type='checkbox' ><label for='attrs-21609f73-19a5-44a3-8667-b7bfdc5f2f84' title='Show/Hide attributes'><svg class='icon xr-icon-file-text2'><use xlink:href='#icon-file-text2'></use></svg></label><input id='data-868d1d50-cbb6-4c37-84be-64b22d68d54f' class='xr-var-data-in' type='checkbox'><label for='data-868d1d50-cbb6-4c37-84be-64b22d68d54f' title='Show/Hide data repr'><svg class='icon xr-icon-database'><use xlink:href='#icon-database'></use></svg></label><div class='xr-var-attrs'><dl class='xr-attrs'><dt><span>GRIB_paramId :</span></dt><dd>166</dd><dt><span>GRIB_dataType :</span></dt><dd>cf</dd><dt><span>GRIB_numberOfPoints :</span></dt><dd>3061036</dd><dt><span>GRIB_typeOfLevel :</span></dt><dd>heightAboveGround</dd><dt><span>GRIB_stepUnits :</span></dt><dd>1</dd><dt><span>GRIB_stepType :</span></dt><dd>instant</dd><dt><span>GRIB_gridType :</span></dt><dd>lambert</dd><dt><span>GRIB_DxInMetres :</span></dt><dd>2000.0</dd><dt><span>GRIB_DyInMetres :</span></dt><dd>2000.0</dd><dt><span>GRIB_LaDInDegrees :</span></dt><dd>55.5</dd><dt><span>GRIB_Latin1InDegrees :</span></dt><dd>55.5</dd><dt><span>GRIB_Latin2InDegrees :</span></dt><dd>55.5</dd><dt><span>GRIB_LoVInDegrees :</span></dt><dd>352.0</dd><dt><span>GRIB_NV :</span></dt><dd>182</dd><dt><span>GRIB_Nx :</span></dt><dd>1906</dd><dt><span>GRIB_Ny :</span></dt><dd>1606</dd><dt><span>GRIB_cfName :</span></dt><dd>northward_wind</dd><dt><span>GRIB_cfVarName :</span></dt><dd>v10</dd><dt><span>GRIB_gridDefinitionDescription :</span></dt><dd>Lambert conformal</dd><dt><span>GRIB_iScansNegatively :</span></dt><dd>0</dd><dt><span>GRIB_jPointsAreConsecutive :</span></dt><dd>0</dd><dt><span>GRIB_jScansPositively :</span></dt><dd>1</dd><dt><span>GRIB_latitudeOfFirstGridPointInDegrees :</span></dt><dd>39.671</dd><dt><span>GRIB_latitudeOfSouthernPoleInDegrees :</span></dt><dd>-90.0</dd><dt><span>GRIB_longitudeOfFirstGridPointInDegrees :</span></dt><dd>334.578</dd><dt><span>GRIB_longitudeOfSouthernPoleInDegrees :</span></dt><dd>0.0</dd><dt><span>GRIB_missingValue :</span></dt><dd>3.4028234663852886e+38</dd><dt><span>GRIB_name :</span></dt><dd>10 metre V wind component</dd><dt><span>GRIB_shortName :</span></dt><dd>10v</dd><dt><span>GRIB_totalNumber :</span></dt><dd>31</dd><dt><span>GRIB_units :</span></dt><dd>m s**-1</dd><dt><span>long_name :</span></dt><dd>10 metre V wind component</dd><dt><span>units :</span></dt><dd>m s**-1</dd><dt><span>standard_name :</span></dt><dd>northward_wind</dd></dl></div><div class='xr-var-data'><pre>array([[0., 0., 0., ..., 0., 0., 0.],\n",
       "       [0., 0., 0., ..., 0., 0., 0.],\n",
       "       [0., 0., 0., ..., 0., 0., 0.],\n",
       "       ...,\n",
       "       [0., 0., 0., ..., 0., 0., 0.],\n",
       "       [0., 0., 0., ..., 0., 0., 0.],\n",
       "       [0., 0., 0., ..., 0., 0., 0.]], dtype=float32)</pre></div></li><li class='xr-var-item'><div class='xr-var-name'><span>accumulated_direct_radiation_W_m2</span></div><div class='xr-var-dims'>(y, x)</div><div class='xr-var-dtype'>float32</div><div class='xr-var-preview xr-preview'>0.0 0.0 0.0 0.0 ... 0.0 0.0 0.0 0.0</div><input id='attrs-0b0694c7-1b74-4a67-8b4d-635e5090e61b' class='xr-var-attrs-in' type='checkbox' ><label for='attrs-0b0694c7-1b74-4a67-8b4d-635e5090e61b' title='Show/Hide attributes'><svg class='icon xr-icon-file-text2'><use xlink:href='#icon-file-text2'></use></svg></label><input id='data-23b714be-3fd0-47d4-8ef3-1f0615e66ad9' class='xr-var-data-in' type='checkbox'><label for='data-23b714be-3fd0-47d4-8ef3-1f0615e66ad9' title='Show/Hide data repr'><svg class='icon xr-icon-database'><use xlink:href='#icon-database'></use></svg></label><div class='xr-var-attrs'><dl class='xr-attrs'><dt><span>GRIB_paramId :</span></dt><dd>260089</dd><dt><span>GRIB_dataType :</span></dt><dd>cf</dd><dt><span>GRIB_numberOfPoints :</span></dt><dd>3061036</dd><dt><span>GRIB_typeOfLevel :</span></dt><dd>heightAboveGround</dd><dt><span>GRIB_stepUnits :</span></dt><dd>1</dd><dt><span>GRIB_stepType :</span></dt><dd>accum</dd><dt><span>GRIB_gridType :</span></dt><dd>lambert</dd><dt><span>GRIB_DxInMetres :</span></dt><dd>2000.0</dd><dt><span>GRIB_DyInMetres :</span></dt><dd>2000.0</dd><dt><span>GRIB_LaDInDegrees :</span></dt><dd>55.5</dd><dt><span>GRIB_Latin1InDegrees :</span></dt><dd>55.5</dd><dt><span>GRIB_Latin2InDegrees :</span></dt><dd>55.5</dd><dt><span>GRIB_LoVInDegrees :</span></dt><dd>352.0</dd><dt><span>GRIB_NV :</span></dt><dd>182</dd><dt><span>GRIB_Nx :</span></dt><dd>1906</dd><dt><span>GRIB_Ny :</span></dt><dd>1606</dd><dt><span>GRIB_cfName :</span></dt><dd>unknown</dd><dt><span>GRIB_cfVarName :</span></dt><dd>nswrf</dd><dt><span>GRIB_gridDefinitionDescription :</span></dt><dd>Lambert conformal</dd><dt><span>GRIB_iScansNegatively :</span></dt><dd>0</dd><dt><span>GRIB_jPointsAreConsecutive :</span></dt><dd>0</dd><dt><span>GRIB_jScansPositively :</span></dt><dd>1</dd><dt><span>GRIB_latitudeOfFirstGridPointInDegrees :</span></dt><dd>39.671</dd><dt><span>GRIB_latitudeOfSouthernPoleInDegrees :</span></dt><dd>-90.0</dd><dt><span>GRIB_longitudeOfFirstGridPointInDegrees :</span></dt><dd>334.578</dd><dt><span>GRIB_longitudeOfSouthernPoleInDegrees :</span></dt><dd>0.0</dd><dt><span>GRIB_missingValue :</span></dt><dd>3.4028234663852886e+38</dd><dt><span>GRIB_name :</span></dt><dd>Net short wave radiation flux</dd><dt><span>GRIB_shortName :</span></dt><dd>nswrf</dd><dt><span>GRIB_totalNumber :</span></dt><dd>31</dd><dt><span>GRIB_units :</span></dt><dd>W m**-2</dd><dt><span>long_name :</span></dt><dd>Net short wave radiation flux</dd><dt><span>units :</span></dt><dd>W m**-2</dd><dt><span>standard_name :</span></dt><dd>unknown</dd></dl></div><div class='xr-var-data'><pre>array([[0., 0., 0., ..., 0., 0., 0.],\n",
       "       [0., 0., 0., ..., 0., 0., 0.],\n",
       "       [0., 0., 0., ..., 0., 0., 0.],\n",
       "       ...,\n",
       "       [0., 0., 0., ..., 0., 0., 0.],\n",
       "       [0., 0., 0., ..., 0., 0., 0.],\n",
       "       [0., 0., 0., ..., 0., 0., 0.]], dtype=float32)</pre></div></li><li class='xr-var-item'><div class='xr-var-name'><span>accumulated_global_radiation_W_m2</span></div><div class='xr-var-dims'>(y, x)</div><div class='xr-var-dtype'>float32</div><div class='xr-var-preview xr-preview'>0.0 0.0 0.0 0.0 ... 0.0 0.0 0.0 0.0</div><input id='attrs-286859c3-552f-4a9f-848a-8bd8b9c216a1' class='xr-var-attrs-in' type='checkbox' ><label for='attrs-286859c3-552f-4a9f-848a-8bd8b9c216a1' title='Show/Hide attributes'><svg class='icon xr-icon-file-text2'><use xlink:href='#icon-file-text2'></use></svg></label><input id='data-7bc66f3f-1c38-4fc5-95d8-b9264f8f9520' class='xr-var-data-in' type='checkbox'><label for='data-7bc66f3f-1c38-4fc5-95d8-b9264f8f9520' title='Show/Hide data repr'><svg class='icon xr-icon-database'><use xlink:href='#icon-database'></use></svg></label><div class='xr-var-attrs'><dl class='xr-attrs'><dt><span>GRIB_paramId :</span></dt><dd>3117</dd><dt><span>GRIB_dataType :</span></dt><dd>cf</dd><dt><span>GRIB_numberOfPoints :</span></dt><dd>3061036</dd><dt><span>GRIB_typeOfLevel :</span></dt><dd>heightAboveGround</dd><dt><span>GRIB_stepUnits :</span></dt><dd>1</dd><dt><span>GRIB_stepType :</span></dt><dd>accum</dd><dt><span>GRIB_gridType :</span></dt><dd>lambert</dd><dt><span>GRIB_DxInMetres :</span></dt><dd>2000.0</dd><dt><span>GRIB_DyInMetres :</span></dt><dd>2000.0</dd><dt><span>GRIB_LaDInDegrees :</span></dt><dd>55.5</dd><dt><span>GRIB_Latin1InDegrees :</span></dt><dd>55.5</dd><dt><span>GRIB_Latin2InDegrees :</span></dt><dd>55.5</dd><dt><span>GRIB_LoVInDegrees :</span></dt><dd>352.0</dd><dt><span>GRIB_NV :</span></dt><dd>182</dd><dt><span>GRIB_Nx :</span></dt><dd>1906</dd><dt><span>GRIB_Ny :</span></dt><dd>1606</dd><dt><span>GRIB_cfName :</span></dt><dd>unknown</dd><dt><span>GRIB_cfVarName :</span></dt><dd>grad</dd><dt><span>GRIB_gridDefinitionDescription :</span></dt><dd>Lambert conformal</dd><dt><span>GRIB_iScansNegatively :</span></dt><dd>0</dd><dt><span>GRIB_jPointsAreConsecutive :</span></dt><dd>0</dd><dt><span>GRIB_jScansPositively :</span></dt><dd>1</dd><dt><span>GRIB_latitudeOfFirstGridPointInDegrees :</span></dt><dd>39.671</dd><dt><span>GRIB_latitudeOfSouthernPoleInDegrees :</span></dt><dd>-90.0</dd><dt><span>GRIB_longitudeOfFirstGridPointInDegrees :</span></dt><dd>334.578</dd><dt><span>GRIB_longitudeOfSouthernPoleInDegrees :</span></dt><dd>0.0</dd><dt><span>GRIB_missingValue :</span></dt><dd>3.4028234663852886e+38</dd><dt><span>GRIB_name :</span></dt><dd>Global radiation flux</dd><dt><span>GRIB_shortName :</span></dt><dd>grad</dd><dt><span>GRIB_totalNumber :</span></dt><dd>31</dd><dt><span>GRIB_units :</span></dt><dd>W m**-2</dd><dt><span>long_name :</span></dt><dd>Global radiation flux</dd><dt><span>units :</span></dt><dd>W m**-2</dd><dt><span>standard_name :</span></dt><dd>unknown</dd></dl></div><div class='xr-var-data'><pre>array([[0., 0., 0., ..., 0., 0., 0.],\n",
       "       [0., 0., 0., ..., 0., 0., 0.],\n",
       "       [0., 0., 0., ..., 0., 0., 0.],\n",
       "       ...,\n",
       "       [0., 0., 0., ..., 0., 0., 0.],\n",
       "       [0., 0., 0., ..., 0., 0., 0.],\n",
       "       [0., 0., 0., ..., 0., 0., 0.]], dtype=float32)</pre></div></li></ul></div></li><li class='xr-section-item'><input id='section-aaca1d0b-6fb6-4fb5-85c0-744ce812119a' class='xr-section-summary-in' type='checkbox' disabled ><label for='section-aaca1d0b-6fb6-4fb5-85c0-744ce812119a' class='xr-section-summary'  title='Expand/collapse section'>Indexes: <span>(0)</span></label><div class='xr-section-inline-details'></div><div class='xr-section-details'><ul class='xr-var-list'></ul></div></li><li class='xr-section-item'><input id='section-b35c15f1-a3a9-47b8-b999-2f3458b66055' class='xr-section-summary-in' type='checkbox'  checked><label for='section-b35c15f1-a3a9-47b8-b999-2f3458b66055' class='xr-section-summary' >Attributes: <span>(8)</span></label><div class='xr-section-inline-details'></div><div class='xr-section-details'><dl class='xr-attrs'><dt><span>GRIB_edition :</span></dt><dd>2</dd><dt><span>GRIB_centre :</span></dt><dd>ekmi</dd><dt><span>GRIB_centreDescription :</span></dt><dd>Copenhagen</dd><dt><span>GRIB_subCentre :</span></dt><dd>255</dd><dt><span>Conventions :</span></dt><dd>CF-1.7</dd><dt><span>institution :</span></dt><dd>Copenhagen</dd><dt><span>history :</span></dt><dd>2024-08-08T13:31 GRIB to CDM+CF via cfgrib-0.9.13.0/ecCodes-2.34.1 with {&quot;source&quot;: &quot;../../../../../tmp/tmpi_z7356xgrib&quot;, &quot;filter_by_keys&quot;: {&quot;stepType&quot;: &quot;instant&quot;, &quot;typeOfLevel&quot;: &quot;heightAboveGround&quot;, &quot;parameterCategory&quot;: 0, &quot;parameterNumber&quot;: 0, &quot;level&quot;: 2}, &quot;encode_cf&quot;: [&quot;parameter&quot;, &quot;time&quot;, &quot;geography&quot;, &quot;vertical&quot;]}</dd><dt><span>parameter :</span></dt><dd>temperature</dd></dl></div></li></ul></div></div>"
      ],
      "text/plain": [
       "<xarray.Dataset> Size: 110MB\n",
       "Dimensions:                            (y: 1606, x: 1906)\n",
       "Coordinates:\n",
       "    latitude                           (y, x) float64 24MB ...\n",
       "    longitude                          (y, x) float64 24MB ...\n",
       "    number                             int32 4B ...\n",
       "    calculation_time_utc               datetime64[ns] 8B ...\n",
       "    step                               timedelta64[ns] 8B ...\n",
       "    time_utc                           datetime64[ns] 8B ...\n",
       "Dimensions without coordinates: y, x\n",
       "Data variables:\n",
       "    temperature_K                      (y, x) float32 12MB 0.0 0.0 ... 0.0 0.0\n",
       "    wind_u_m_s                         (y, x) float32 12MB 0.0 0.0 ... 0.0 0.0\n",
       "    wind_v_m_s                         (y, x) float32 12MB 0.0 0.0 ... 0.0 0.0\n",
       "    accumulated_direct_radiation_W_m2  (y, x) float32 12MB 0.0 0.0 ... 0.0 0.0\n",
       "    accumulated_global_radiation_W_m2  (y, x) float32 12MB 0.0 0.0 ... 0.0 0.0\n",
       "Attributes:\n",
       "    GRIB_edition:            2\n",
       "    GRIB_centre:             ekmi\n",
       "    GRIB_centreDescription:  Copenhagen\n",
       "    GRIB_subCentre:          255\n",
       "    Conventions:             CF-1.7\n",
       "    institution:             Copenhagen\n",
       "    history:                 2024-08-08T13:31 GRIB to CDM+CF via cfgrib-0.9.1...\n",
       "    parameter:               temperature"
      ]
     },
     "execution_count": 28,
     "metadata": {},
     "output_type": "execute_result"
    }
   ],
   "source": [
    "dst"
   ]
  },
  {
   "cell_type": "code",
   "execution_count": 66,
   "metadata": {},
   "outputs": [],
   "source": [
    "ds1 = ds1.expand_dims(dim=[\"time_utc\", \"calculation_time_utc\"])"
   ]
  },
  {
   "cell_type": "code",
   "execution_count": 16,
   "metadata": {},
   "outputs": [],
   "source": [
    "ds2 = xr.open_dataset(\"ds2.nc\")"
   ]
  },
  {
   "cell_type": "code",
   "execution_count": 42,
   "metadata": {},
   "outputs": [
    {
     "ename": "ValueError",
     "evalue": "Dimension time_utc already exists.",
     "output_type": "error",
     "traceback": [
      "\u001b[0;31m---------------------------------------------------------------------------\u001b[0m",
      "\u001b[0;31mValueError\u001b[0m                                Traceback (most recent call last)",
      "\u001b[0;32m/tmp/ipykernel_33132/3196758481.py\u001b[0m in \u001b[0;36m?\u001b[0;34m()\u001b[0m\n\u001b[0;32m----> 1\u001b[0;31m \u001b[0mds2\u001b[0m \u001b[0;34m=\u001b[0m \u001b[0mds2\u001b[0m\u001b[0;34m.\u001b[0m\u001b[0mexpand_dims\u001b[0m\u001b[0;34m(\u001b[0m\u001b[0mdim\u001b[0m\u001b[0;34m=\u001b[0m\u001b[0;34m[\u001b[0m\u001b[0;34m\"time_utc\"\u001b[0m\u001b[0;34m,\u001b[0m \u001b[0;34m\"calculation_time_utc\"\u001b[0m\u001b[0;34m]\u001b[0m\u001b[0;34m)\u001b[0m\u001b[0;34m\u001b[0m\u001b[0;34m\u001b[0m\u001b[0m\n\u001b[0m",
      "\u001b[0;32m~/.pyenv/versions/3.10.8/envs/pvforecast-etl/lib/python3.10/site-packages/xarray/core/dataset.py\u001b[0m in \u001b[0;36m?\u001b[0;34m(self, dim, axis, create_index_for_new_dim, **dim_kwargs)\u001b[0m\n\u001b[1;32m   4672\u001b[0m         \u001b[0;32mif\u001b[0m \u001b[0mlen\u001b[0m\u001b[0;34m(\u001b[0m\u001b[0mdim\u001b[0m\u001b[0;34m)\u001b[0m \u001b[0;34m!=\u001b[0m \u001b[0mlen\u001b[0m\u001b[0;34m(\u001b[0m\u001b[0maxis\u001b[0m\u001b[0;34m)\u001b[0m\u001b[0;34m:\u001b[0m\u001b[0;34m\u001b[0m\u001b[0;34m\u001b[0m\u001b[0m\n\u001b[1;32m   4673\u001b[0m             \u001b[0;32mraise\u001b[0m \u001b[0mValueError\u001b[0m\u001b[0;34m(\u001b[0m\u001b[0;34m\"lengths of dim and axis should be identical.\"\u001b[0m\u001b[0;34m)\u001b[0m\u001b[0;34m\u001b[0m\u001b[0;34m\u001b[0m\u001b[0m\n\u001b[1;32m   4674\u001b[0m         \u001b[0;32mfor\u001b[0m \u001b[0md\u001b[0m \u001b[0;32min\u001b[0m \u001b[0mdim\u001b[0m\u001b[0;34m:\u001b[0m\u001b[0;34m\u001b[0m\u001b[0;34m\u001b[0m\u001b[0m\n\u001b[1;32m   4675\u001b[0m             \u001b[0;32mif\u001b[0m \u001b[0md\u001b[0m \u001b[0;32min\u001b[0m \u001b[0mself\u001b[0m\u001b[0;34m.\u001b[0m\u001b[0mdims\u001b[0m\u001b[0;34m:\u001b[0m\u001b[0;34m\u001b[0m\u001b[0;34m\u001b[0m\u001b[0m\n\u001b[0;32m-> 4676\u001b[0;31m                 \u001b[0;32mraise\u001b[0m \u001b[0mValueError\u001b[0m\u001b[0;34m(\u001b[0m\u001b[0;34mf\"Dimension {d} already exists.\"\u001b[0m\u001b[0;34m)\u001b[0m\u001b[0;34m\u001b[0m\u001b[0;34m\u001b[0m\u001b[0m\n\u001b[0m\u001b[1;32m   4677\u001b[0m             \u001b[0;32mif\u001b[0m \u001b[0md\u001b[0m \u001b[0;32min\u001b[0m \u001b[0mself\u001b[0m\u001b[0;34m.\u001b[0m\u001b[0m_variables\u001b[0m \u001b[0;32mand\u001b[0m \u001b[0;32mnot\u001b[0m \u001b[0mutils\u001b[0m\u001b[0;34m.\u001b[0m\u001b[0mis_scalar\u001b[0m\u001b[0;34m(\u001b[0m\u001b[0mself\u001b[0m\u001b[0;34m.\u001b[0m\u001b[0m_variables\u001b[0m\u001b[0;34m[\u001b[0m\u001b[0md\u001b[0m\u001b[0;34m]\u001b[0m\u001b[0;34m)\u001b[0m\u001b[0;34m:\u001b[0m\u001b[0;34m\u001b[0m\u001b[0;34m\u001b[0m\u001b[0m\n\u001b[1;32m   4678\u001b[0m                 raise ValueError(\n\u001b[1;32m   4679\u001b[0m                     \u001b[0;34mf\"{d} already exists as coordinate or\"\u001b[0m \u001b[0;34m\" variable name.\"\u001b[0m\u001b[0;34m\u001b[0m\u001b[0;34m\u001b[0m\u001b[0m\n",
      "\u001b[0;31mValueError\u001b[0m: Dimension time_utc already exists."
     ]
    }
   ],
   "source": [
    "ds2 = ds2.expand_dims(dim=[\"time_utc\", \"calculation_time_utc\"])"
   ]
  },
  {
   "cell_type": "code",
   "execution_count": 40,
   "metadata": {},
   "outputs": [],
   "source": [
    "ds1 = 0"
   ]
  },
  {
   "cell_type": "code",
   "execution_count": 67,
   "metadata": {},
   "outputs": [
    {
     "data": {
      "text/plain": [
       "Delayed('_finalize_store-284e9fa6-732c-4b4b-93ac-9dc7d8fa8d62')"
      ]
     },
     "execution_count": 67,
     "metadata": {},
     "output_type": "execute_result"
    }
   ],
   "source": [
    "ds1.to_zarr(store=\"test_store.zarr\", compute=False)"
   ]
  },
  {
   "cell_type": "code",
   "execution_count": 35,
   "metadata": {},
   "outputs": [
    {
     "data": {
      "text/plain": [
       "<xarray.backends.zarr.ZarrStore at 0x7ff6f91f89c0>"
      ]
     },
     "execution_count": 35,
     "metadata": {},
     "output_type": "execute_result"
    }
   ],
   "source": [
    "(\n",
    "    ds1\n",
    "    .drop_vars(['latitude', 'longitude', 'number', 'step'])\n",
    "    .to_zarr(store=\"test_store.zarr\", region={\"time_utc\": slice(0,1), \"calculation_time_utc\": slice(0,1)})\n",
    ")"
   ]
  },
  {
   "cell_type": "code",
   "execution_count": 38,
   "metadata": {},
   "outputs": [
    {
     "ename": "ValueError",
     "evalue": "variable 'accumulated_direct_radiation_W_m2' already exists with different dimension sizes: {'time_utc': 0, 'calculation_time_utc': 0, 'y': 1606, 'x': 1906} != {'time_utc': 1, 'calculation_time_utc': 1, 'y': 1606, 'x': 1906}. to_zarr() only supports changing dimension sizes when explicitly appending, but append_dim=None. If you are attempting to write to a subset of the existing store without changing dimension sizes, consider using the region argument in to_zarr().",
     "output_type": "error",
     "traceback": [
      "\u001b[0;31m---------------------------------------------------------------------------\u001b[0m",
      "\u001b[0;31mValueError\u001b[0m                                Traceback (most recent call last)",
      "Cell \u001b[0;32mIn[38], line 2\u001b[0m\n\u001b[1;32m      1\u001b[0m (\n\u001b[0;32m----> 2\u001b[0m     \u001b[43mds2\u001b[49m\n\u001b[1;32m      3\u001b[0m \u001b[43m    \u001b[49m\u001b[38;5;241;43m.\u001b[39;49m\u001b[43mdrop_vars\u001b[49m\u001b[43m(\u001b[49m\u001b[43m[\u001b[49m\u001b[38;5;124;43m'\u001b[39;49m\u001b[38;5;124;43mnumber\u001b[39;49m\u001b[38;5;124;43m'\u001b[39;49m\u001b[43m,\u001b[49m\u001b[43m \u001b[49m\u001b[38;5;124;43m'\u001b[39;49m\u001b[38;5;124;43mstep\u001b[39;49m\u001b[38;5;124;43m'\u001b[39;49m\u001b[43m,\u001b[49m\u001b[43m \u001b[49m\u001b[38;5;124;43m'\u001b[39;49m\u001b[38;5;124;43mlatitude\u001b[39;49m\u001b[38;5;124;43m'\u001b[39;49m\u001b[43m,\u001b[49m\u001b[43m \u001b[49m\u001b[38;5;124;43m'\u001b[39;49m\u001b[38;5;124;43mlongitude\u001b[39;49m\u001b[38;5;124;43m'\u001b[39;49m\u001b[43m]\u001b[49m\u001b[43m)\u001b[49m\n\u001b[1;32m      4\u001b[0m \u001b[43m    \u001b[49m\u001b[38;5;241;43m.\u001b[39;49m\u001b[43mto_zarr\u001b[49m\u001b[43m(\u001b[49m\u001b[43mstore\u001b[49m\u001b[38;5;241;43m=\u001b[39;49m\u001b[38;5;124;43m\"\u001b[39;49m\u001b[38;5;124;43mtest_store.zarr\u001b[39;49m\u001b[38;5;124;43m\"\u001b[39;49m\u001b[43m,\u001b[49m\u001b[43m \u001b[49m\u001b[43mregion\u001b[49m\u001b[38;5;241;43m=\u001b[39;49m\u001b[43m{\u001b[49m\u001b[38;5;124;43m\"\u001b[39;49m\u001b[38;5;124;43mtime_utc\u001b[39;49m\u001b[38;5;124;43m\"\u001b[39;49m\u001b[43m:\u001b[49m\u001b[43m \u001b[49m\u001b[38;5;28;43mslice\u001b[39;49m\u001b[43m(\u001b[49m\u001b[38;5;241;43m1\u001b[39;49m\u001b[43m,\u001b[49m\u001b[38;5;241;43m2\u001b[39;49m\u001b[43m)\u001b[49m\u001b[43m,\u001b[49m\u001b[43m \u001b[49m\u001b[38;5;124;43m\"\u001b[39;49m\u001b[38;5;124;43mcalculation_time_utc\u001b[39;49m\u001b[38;5;124;43m\"\u001b[39;49m\u001b[43m:\u001b[49m\u001b[43m \u001b[49m\u001b[38;5;28;43mslice\u001b[39;49m\u001b[43m(\u001b[49m\u001b[38;5;241;43m1\u001b[39;49m\u001b[43m,\u001b[49m\u001b[38;5;241;43m2\u001b[39;49m\u001b[43m)\u001b[49m\u001b[43m}\u001b[49m\u001b[43m)\u001b[49m\n\u001b[1;32m      5\u001b[0m )\n",
      "File \u001b[0;32m~/.pyenv/versions/3.10.8/envs/pvforecast-etl/lib/python3.10/site-packages/xarray/core/dataset.py:2549\u001b[0m, in \u001b[0;36mDataset.to_zarr\u001b[0;34m(self, store, chunk_store, mode, synchronizer, group, encoding, compute, consolidated, append_dim, region, safe_chunks, storage_options, zarr_version, write_empty_chunks, chunkmanager_store_kwargs)\u001b[0m\n\u001b[1;32m   2404\u001b[0m \u001b[38;5;250m\u001b[39m\u001b[38;5;124;03m\"\"\"Write dataset contents to a zarr group.\u001b[39;00m\n\u001b[1;32m   2405\u001b[0m \n\u001b[1;32m   2406\u001b[0m \u001b[38;5;124;03mZarr chunks are determined in the following way:\u001b[39;00m\n\u001b[0;32m   (...)\u001b[0m\n\u001b[1;32m   2545\u001b[0m \u001b[38;5;124;03m    The I/O user guide, with more details and examples.\u001b[39;00m\n\u001b[1;32m   2546\u001b[0m \u001b[38;5;124;03m\"\"\"\u001b[39;00m\n\u001b[1;32m   2547\u001b[0m \u001b[38;5;28;01mfrom\u001b[39;00m \u001b[38;5;21;01mxarray\u001b[39;00m\u001b[38;5;21;01m.\u001b[39;00m\u001b[38;5;21;01mbackends\u001b[39;00m\u001b[38;5;21;01m.\u001b[39;00m\u001b[38;5;21;01mapi\u001b[39;00m \u001b[38;5;28;01mimport\u001b[39;00m to_zarr\n\u001b[0;32m-> 2549\u001b[0m \u001b[38;5;28;01mreturn\u001b[39;00m \u001b[43mto_zarr\u001b[49m\u001b[43m(\u001b[49m\u001b[43m  \u001b[49m\u001b[38;5;66;43;03m# type: ignore[call-overload,misc]\u001b[39;49;00m\n\u001b[1;32m   2550\u001b[0m \u001b[43m    \u001b[49m\u001b[38;5;28;43mself\u001b[39;49m\u001b[43m,\u001b[49m\n\u001b[1;32m   2551\u001b[0m \u001b[43m    \u001b[49m\u001b[43mstore\u001b[49m\u001b[38;5;241;43m=\u001b[39;49m\u001b[43mstore\u001b[49m\u001b[43m,\u001b[49m\n\u001b[1;32m   2552\u001b[0m \u001b[43m    \u001b[49m\u001b[43mchunk_store\u001b[49m\u001b[38;5;241;43m=\u001b[39;49m\u001b[43mchunk_store\u001b[49m\u001b[43m,\u001b[49m\n\u001b[1;32m   2553\u001b[0m \u001b[43m    \u001b[49m\u001b[43mstorage_options\u001b[49m\u001b[38;5;241;43m=\u001b[39;49m\u001b[43mstorage_options\u001b[49m\u001b[43m,\u001b[49m\n\u001b[1;32m   2554\u001b[0m \u001b[43m    \u001b[49m\u001b[43mmode\u001b[49m\u001b[38;5;241;43m=\u001b[39;49m\u001b[43mmode\u001b[49m\u001b[43m,\u001b[49m\n\u001b[1;32m   2555\u001b[0m \u001b[43m    \u001b[49m\u001b[43msynchronizer\u001b[49m\u001b[38;5;241;43m=\u001b[39;49m\u001b[43msynchronizer\u001b[49m\u001b[43m,\u001b[49m\n\u001b[1;32m   2556\u001b[0m \u001b[43m    \u001b[49m\u001b[43mgroup\u001b[49m\u001b[38;5;241;43m=\u001b[39;49m\u001b[43mgroup\u001b[49m\u001b[43m,\u001b[49m\n\u001b[1;32m   2557\u001b[0m \u001b[43m    \u001b[49m\u001b[43mencoding\u001b[49m\u001b[38;5;241;43m=\u001b[39;49m\u001b[43mencoding\u001b[49m\u001b[43m,\u001b[49m\n\u001b[1;32m   2558\u001b[0m \u001b[43m    \u001b[49m\u001b[43mcompute\u001b[49m\u001b[38;5;241;43m=\u001b[39;49m\u001b[43mcompute\u001b[49m\u001b[43m,\u001b[49m\n\u001b[1;32m   2559\u001b[0m \u001b[43m    \u001b[49m\u001b[43mconsolidated\u001b[49m\u001b[38;5;241;43m=\u001b[39;49m\u001b[43mconsolidated\u001b[49m\u001b[43m,\u001b[49m\n\u001b[1;32m   2560\u001b[0m \u001b[43m    \u001b[49m\u001b[43mappend_dim\u001b[49m\u001b[38;5;241;43m=\u001b[39;49m\u001b[43mappend_dim\u001b[49m\u001b[43m,\u001b[49m\n\u001b[1;32m   2561\u001b[0m \u001b[43m    \u001b[49m\u001b[43mregion\u001b[49m\u001b[38;5;241;43m=\u001b[39;49m\u001b[43mregion\u001b[49m\u001b[43m,\u001b[49m\n\u001b[1;32m   2562\u001b[0m \u001b[43m    \u001b[49m\u001b[43msafe_chunks\u001b[49m\u001b[38;5;241;43m=\u001b[39;49m\u001b[43msafe_chunks\u001b[49m\u001b[43m,\u001b[49m\n\u001b[1;32m   2563\u001b[0m \u001b[43m    \u001b[49m\u001b[43mzarr_version\u001b[49m\u001b[38;5;241;43m=\u001b[39;49m\u001b[43mzarr_version\u001b[49m\u001b[43m,\u001b[49m\n\u001b[1;32m   2564\u001b[0m \u001b[43m    \u001b[49m\u001b[43mwrite_empty_chunks\u001b[49m\u001b[38;5;241;43m=\u001b[39;49m\u001b[43mwrite_empty_chunks\u001b[49m\u001b[43m,\u001b[49m\n\u001b[1;32m   2565\u001b[0m \u001b[43m    \u001b[49m\u001b[43mchunkmanager_store_kwargs\u001b[49m\u001b[38;5;241;43m=\u001b[39;49m\u001b[43mchunkmanager_store_kwargs\u001b[49m\u001b[43m,\u001b[49m\n\u001b[1;32m   2566\u001b[0m \u001b[43m\u001b[49m\u001b[43m)\u001b[49m\n",
      "File \u001b[0;32m~/.pyenv/versions/3.10.8/envs/pvforecast-etl/lib/python3.10/site-packages/xarray/backends/api.py:1697\u001b[0m, in \u001b[0;36mto_zarr\u001b[0;34m(dataset, store, chunk_store, mode, synchronizer, group, encoding, compute, consolidated, append_dim, region, safe_chunks, storage_options, zarr_version, write_empty_chunks, chunkmanager_store_kwargs)\u001b[0m\n\u001b[1;32m   1695\u001b[0m writer \u001b[38;5;241m=\u001b[39m ArrayWriter()\n\u001b[1;32m   1696\u001b[0m \u001b[38;5;66;03m# TODO: figure out how to properly handle unlimited_dims\u001b[39;00m\n\u001b[0;32m-> 1697\u001b[0m \u001b[43mdump_to_store\u001b[49m\u001b[43m(\u001b[49m\u001b[43mdataset\u001b[49m\u001b[43m,\u001b[49m\u001b[43m \u001b[49m\u001b[43mzstore\u001b[49m\u001b[43m,\u001b[49m\u001b[43m \u001b[49m\u001b[43mwriter\u001b[49m\u001b[43m,\u001b[49m\u001b[43m \u001b[49m\u001b[43mencoding\u001b[49m\u001b[38;5;241;43m=\u001b[39;49m\u001b[43mencoding\u001b[49m\u001b[43m)\u001b[49m\n\u001b[1;32m   1698\u001b[0m writes \u001b[38;5;241m=\u001b[39m writer\u001b[38;5;241m.\u001b[39msync(\n\u001b[1;32m   1699\u001b[0m     compute\u001b[38;5;241m=\u001b[39mcompute, chunkmanager_store_kwargs\u001b[38;5;241m=\u001b[39mchunkmanager_store_kwargs\n\u001b[1;32m   1700\u001b[0m )\n\u001b[1;32m   1702\u001b[0m \u001b[38;5;28;01mif\u001b[39;00m compute:\n",
      "File \u001b[0;32m~/.pyenv/versions/3.10.8/envs/pvforecast-etl/lib/python3.10/site-packages/xarray/backends/api.py:1384\u001b[0m, in \u001b[0;36mdump_to_store\u001b[0;34m(dataset, store, writer, encoder, encoding, unlimited_dims)\u001b[0m\n\u001b[1;32m   1381\u001b[0m \u001b[38;5;28;01mif\u001b[39;00m encoder:\n\u001b[1;32m   1382\u001b[0m     variables, attrs \u001b[38;5;241m=\u001b[39m encoder(variables, attrs)\n\u001b[0;32m-> 1384\u001b[0m \u001b[43mstore\u001b[49m\u001b[38;5;241;43m.\u001b[39;49m\u001b[43mstore\u001b[49m\u001b[43m(\u001b[49m\u001b[43mvariables\u001b[49m\u001b[43m,\u001b[49m\u001b[43m \u001b[49m\u001b[43mattrs\u001b[49m\u001b[43m,\u001b[49m\u001b[43m \u001b[49m\u001b[43mcheck_encoding\u001b[49m\u001b[43m,\u001b[49m\u001b[43m \u001b[49m\u001b[43mwriter\u001b[49m\u001b[43m,\u001b[49m\u001b[43m \u001b[49m\u001b[43munlimited_dims\u001b[49m\u001b[38;5;241;43m=\u001b[39;49m\u001b[43munlimited_dims\u001b[49m\u001b[43m)\u001b[49m\n",
      "File \u001b[0;32m~/.pyenv/versions/3.10.8/envs/pvforecast-etl/lib/python3.10/site-packages/xarray/backends/zarr.py:695\u001b[0m, in \u001b[0;36mZarrStore.store\u001b[0;34m(self, variables, attributes, check_encoding_set, writer, unlimited_dims)\u001b[0m\n\u001b[1;32m    692\u001b[0m     variables_encoded\u001b[38;5;241m.\u001b[39mupdate(vars_with_encoding)\n\u001b[1;32m    694\u001b[0m     \u001b[38;5;28;01mfor\u001b[39;00m var_name \u001b[38;5;129;01min\u001b[39;00m existing_variable_names:\n\u001b[0;32m--> 695\u001b[0m         variables_encoded[var_name] \u001b[38;5;241m=\u001b[39m \u001b[43m_validate_and_transpose_existing_dims\u001b[49m\u001b[43m(\u001b[49m\n\u001b[1;32m    696\u001b[0m \u001b[43m            \u001b[49m\u001b[43mvar_name\u001b[49m\u001b[43m,\u001b[49m\n\u001b[1;32m    697\u001b[0m \u001b[43m            \u001b[49m\u001b[43mvariables_encoded\u001b[49m\u001b[43m[\u001b[49m\u001b[43mvar_name\u001b[49m\u001b[43m]\u001b[49m\u001b[43m,\u001b[49m\n\u001b[1;32m    698\u001b[0m \u001b[43m            \u001b[49m\u001b[43mexisting_vars\u001b[49m\u001b[43m[\u001b[49m\u001b[43mvar_name\u001b[49m\u001b[43m]\u001b[49m\u001b[43m,\u001b[49m\n\u001b[1;32m    699\u001b[0m \u001b[43m            \u001b[49m\u001b[38;5;28;43mself\u001b[39;49m\u001b[38;5;241;43m.\u001b[39;49m\u001b[43m_write_region\u001b[49m\u001b[43m,\u001b[49m\n\u001b[1;32m    700\u001b[0m \u001b[43m            \u001b[49m\u001b[38;5;28;43mself\u001b[39;49m\u001b[38;5;241;43m.\u001b[39;49m\u001b[43m_append_dim\u001b[49m\u001b[43m,\u001b[49m\n\u001b[1;32m    701\u001b[0m \u001b[43m        \u001b[49m\u001b[43m)\u001b[49m\n\u001b[1;32m    703\u001b[0m \u001b[38;5;28;01mif\u001b[39;00m \u001b[38;5;28mself\u001b[39m\u001b[38;5;241m.\u001b[39m_mode \u001b[38;5;129;01mnot\u001b[39;00m \u001b[38;5;129;01min\u001b[39;00m [\u001b[38;5;124m\"\u001b[39m\u001b[38;5;124mr\u001b[39m\u001b[38;5;124m\"\u001b[39m, \u001b[38;5;124m\"\u001b[39m\u001b[38;5;124mr+\u001b[39m\u001b[38;5;124m\"\u001b[39m]:\n\u001b[1;32m    704\u001b[0m     \u001b[38;5;28mself\u001b[39m\u001b[38;5;241m.\u001b[39mset_attributes(attributes)\n",
      "File \u001b[0;32m~/.pyenv/versions/3.10.8/envs/pvforecast-etl/lib/python3.10/site-packages/xarray/backends/zarr.py:379\u001b[0m, in \u001b[0;36m_validate_and_transpose_existing_dims\u001b[0;34m(var_name, new_var, existing_var, region, append_dim)\u001b[0m\n\u001b[1;32m    377\u001b[0m new_sizes \u001b[38;5;241m=\u001b[39m {dim: size \u001b[38;5;28;01mfor\u001b[39;00m dim, size \u001b[38;5;129;01min\u001b[39;00m new_var\u001b[38;5;241m.\u001b[39msizes\u001b[38;5;241m.\u001b[39mitems() \u001b[38;5;28;01mif\u001b[39;00m dim \u001b[38;5;241m!=\u001b[39m append_dim}\n\u001b[1;32m    378\u001b[0m \u001b[38;5;28;01mif\u001b[39;00m existing_sizes \u001b[38;5;241m!=\u001b[39m new_sizes:\n\u001b[0;32m--> 379\u001b[0m     \u001b[38;5;28;01mraise\u001b[39;00m \u001b[38;5;167;01mValueError\u001b[39;00m(\n\u001b[1;32m    380\u001b[0m         \u001b[38;5;124mf\u001b[39m\u001b[38;5;124m\"\u001b[39m\u001b[38;5;124mvariable \u001b[39m\u001b[38;5;132;01m{\u001b[39;00mvar_name\u001b[38;5;132;01m!r}\u001b[39;00m\u001b[38;5;124m already exists with different \u001b[39m\u001b[38;5;124m\"\u001b[39m\n\u001b[1;32m    381\u001b[0m         \u001b[38;5;124mf\u001b[39m\u001b[38;5;124m\"\u001b[39m\u001b[38;5;124mdimension sizes: \u001b[39m\u001b[38;5;132;01m{\u001b[39;00mexisting_sizes\u001b[38;5;132;01m}\u001b[39;00m\u001b[38;5;124m != \u001b[39m\u001b[38;5;132;01m{\u001b[39;00mnew_sizes\u001b[38;5;132;01m}\u001b[39;00m\u001b[38;5;124m. \u001b[39m\u001b[38;5;124m\"\u001b[39m\n\u001b[1;32m    382\u001b[0m         \u001b[38;5;124mf\u001b[39m\u001b[38;5;124m\"\u001b[39m\u001b[38;5;124mto_zarr() only supports changing dimension sizes when \u001b[39m\u001b[38;5;124m\"\u001b[39m\n\u001b[1;32m    383\u001b[0m         \u001b[38;5;124mf\u001b[39m\u001b[38;5;124m\"\u001b[39m\u001b[38;5;124mexplicitly appending, but append_dim=\u001b[39m\u001b[38;5;132;01m{\u001b[39;00mappend_dim\u001b[38;5;132;01m!r}\u001b[39;00m\u001b[38;5;124m. \u001b[39m\u001b[38;5;124m\"\u001b[39m\n\u001b[1;32m    384\u001b[0m         \u001b[38;5;124mf\u001b[39m\u001b[38;5;124m\"\u001b[39m\u001b[38;5;124mIf you are attempting to write to a subset of the \u001b[39m\u001b[38;5;124m\"\u001b[39m\n\u001b[1;32m    385\u001b[0m         \u001b[38;5;124mf\u001b[39m\u001b[38;5;124m\"\u001b[39m\u001b[38;5;124mexisting store without changing dimension sizes, \u001b[39m\u001b[38;5;124m\"\u001b[39m\n\u001b[1;32m    386\u001b[0m         \u001b[38;5;124mf\u001b[39m\u001b[38;5;124m\"\u001b[39m\u001b[38;5;124mconsider using the region argument in to_zarr().\u001b[39m\u001b[38;5;124m\"\u001b[39m\n\u001b[1;32m    387\u001b[0m     )\n\u001b[1;32m    389\u001b[0m \u001b[38;5;28;01mreturn\u001b[39;00m new_var\n",
      "\u001b[0;31mValueError\u001b[0m: variable 'accumulated_direct_radiation_W_m2' already exists with different dimension sizes: {'time_utc': 0, 'calculation_time_utc': 0, 'y': 1606, 'x': 1906} != {'time_utc': 1, 'calculation_time_utc': 1, 'y': 1606, 'x': 1906}. to_zarr() only supports changing dimension sizes when explicitly appending, but append_dim=None. If you are attempting to write to a subset of the existing store without changing dimension sizes, consider using the region argument in to_zarr()."
     ]
    }
   ],
   "source": [
    "(\n",
    "    ds2\n",
    "    .drop_vars(['number', 'step', 'latitude', 'longitude'])\n",
    "    .to_zarr(store=\"test_store.zarr\", region={\"time_utc\": slice(1,2), \"calculation_time_utc\": slice(1,2)})\n",
    ")"
   ]
  },
  {
   "cell_type": "code",
   "execution_count": null,
   "metadata": {},
   "outputs": [],
   "source": [
    "dsz = xr.open_dataset(\"test_store.zarr\", engine=\"zarr\")"
   ]
  },
  {
   "cell_type": "code",
   "execution_count": null,
   "metadata": {},
   "outputs": [],
   "source": [
    "dsz"
   ]
  },
  {
   "cell_type": "code",
   "execution_count": null,
   "metadata": {},
   "outputs": [],
   "source": [
    "fs = AzureBlobFileSystem(account_name=\"saenigmaarchivedev\", credential=DefaultAzureCredential())"
   ]
  },
  {
   "cell_type": "code",
   "execution_count": null,
   "metadata": {},
   "outputs": [],
   "source": [
    "store = fs.get_mapper(\"az://analysis/uch/data/zarr_store\")"
   ]
  },
  {
   "cell_type": "code",
   "execution_count": null,
   "metadata": {},
   "outputs": [],
   "source": [
    "ds = xr.open_zarr(store, consolidated=True)"
   ]
  },
  {
   "cell_type": "code",
   "execution_count": null,
   "metadata": {},
   "outputs": [],
   "source": [
    "ds"
   ]
  },
  {
   "cell_type": "code",
   "execution_count": null,
   "metadata": {},
   "outputs": [],
   "source": [
    "files.nwp.zarr_to_dataset(\n",
    "    source=Path(\"az://analysis/uch/data/zarr\"),\n",
    "    start_time=dt.datetime(2024, 6, 1),\n",
    "    end_time=dt.datetime(2024,6,1),\n",
    "    storage_options=storage_options\n",
    ")"
   ]
  },
  {
   "cell_type": "code",
   "execution_count": null,
   "metadata": {},
   "outputs": [],
   "source": [
    "from azure.storage.filedatalake import DataLakeServiceClient\n",
    "from azure.identity import DefaultAzureCredential\n",
    "from logic import transformations, files\n",
    "from io import BytesIO\n",
    "from adlfs import AzureBlobFileSystem\n",
    "import fsspec\n",
    "import xarray as xr"
   ]
  },
  {
   "cell_type": "code",
   "execution_count": null,
   "metadata": {},
   "outputs": [],
   "source": [
    "source = AzureBlobFileSystem(account_name=\"saenigmaarchiveprod\", credential=DefaultAzureCredential())"
   ]
  },
  {
   "cell_type": "code",
   "execution_count": null,
   "metadata": {},
   "outputs": [],
   "source": [
    "source.get_file(\"landing/forecast_nwp_dmi_harmonie_dini_sf/schema_version=None/year=2024/month=06/day=01/hour=00/2024-06-01T00-45-50.191399_d635c80e-d713-4834-af99-34ea51c36f69.grib\", \"local.grib\")"
   ]
  },
  {
   "cell_type": "code",
   "execution_count": null,
   "metadata": {},
   "outputs": [],
   "source": [
    "mapper = source.get_mapper(\"landing/forecast_nwp_dmi_harmonie_dini_sf/schema_version=None/year=2024/month=06/day=01/hour=00\", check=True)"
   ]
  },
  {
   "cell_type": "code",
   "execution_count": null,
   "metadata": {},
   "outputs": [],
   "source": []
  },
  {
   "cell_type": "code",
   "execution_count": null,
   "metadata": {},
   "outputs": [],
   "source": [
    "mapper.get(\"2024-06-01T00-45-50.191399_d635c80e-d713-4834-af99-34ea51c36f69.grib\")"
   ]
  },
  {
   "cell_type": "code",
   "execution_count": null,
   "metadata": {},
   "outputs": [],
   "source": [
    "xr.open_dataset(\n",
    "        mapper,\n",
    "        engine=\"zarr\",\n",
    "        backend_kwargs={\n",
    "            \"filter_by_keys\": {\n",
    "                \"stepType\": \"instant\",\n",
    "                \"typeOfLevel\": \"heightAboveGround\",\n",
    "                \"parameterCategory\": 0,\n",
    "                \"parameterNumber\": 0,\n",
    "                \"level\": 2\n",
    "            },\n",
    "            \"indexpath\": \"\",\n",
    "        },\n",
    "        storage_options=dict()\n",
    "    )"
   ]
  },
  {
   "cell_type": "code",
   "execution_count": null,
   "metadata": {},
   "outputs": [],
   "source": []
  },
  {
   "cell_type": "code",
   "execution_count": null,
   "metadata": {},
   "outputs": [],
   "source": []
  },
  {
   "cell_type": "code",
   "execution_count": null,
   "metadata": {},
   "outputs": [],
   "source": [
    "fs = fsspec.AbstractFileSystem(storage_options=storage_options)"
   ]
  },
  {
   "cell_type": "code",
   "execution_count": null,
   "metadata": {},
   "outputs": [],
   "source": [
    "fs.find(\"az://landing/forecast_nwp_dmi_harmonie_dini_sf/schema_version=None/year=2024/month=06\")"
   ]
  },
  {
   "cell_type": "code",
   "execution_count": null,
   "metadata": {},
   "outputs": [],
   "source": [
    "class Archive:\n",
    "\n",
    "    def __init__(self):\n",
    "        datalake_service_client = DataLakeServiceClient(\n",
    "            account_url=\"https://saenigmaarchiveprod.dfs.core.windows.net\",\n",
    "            credential=DefaultAzureCredential(),\n",
    "        )\n",
    "        self.file_system_client = datalake_service_client.get_file_system_client(\"landing\")\n",
    "\n",
    "\n",
    "    def get_files(self):\n",
    "        files = (self.file_system_client.get_paths(\"forecast_nwp_dmi_harmonie_dini_sf/schema_version=None/year=2024/month=06\"))\n",
    "        return [file[\"name\"] for file in files]"
   ]
  },
  {
   "cell_type": "code",
   "execution_count": null,
   "metadata": {},
   "outputs": [],
   "source": [
    "archive = Archive()"
   ]
  },
  {
   "cell_type": "code",
   "execution_count": null,
   "metadata": {},
   "outputs": [],
   "source": [
    "archive.get_files()"
   ]
  },
  {
   "cell_type": "code",
   "execution_count": null,
   "metadata": {},
   "outputs": [],
   "source": []
  },
  {
   "cell_type": "code",
   "execution_count": null,
   "metadata": {},
   "outputs": [],
   "source": [
    "sandbox_datalake_service_client = DataLakeServiceClient(\n",
    "    account_url=\"https://saenigmaarchivedev.dfs.core.windows.net\",\n",
    "    credential=DefaultAzureCredential(),\n",
    ")"
   ]
  },
  {
   "cell_type": "code",
   "execution_count": null,
   "metadata": {},
   "outputs": [],
   "source": [
    "archive_datalake_service_client = DataLakeServiceClient(\n",
    "    account_url=\"https://saenigmaarchiveprod.dfs.core.windows.net\",\n",
    "    credential=DefaultAzureCredential(),\n",
    ")"
   ]
  },
  {
   "cell_type": "code",
   "execution_count": null,
   "metadata": {},
   "outputs": [],
   "source": [
    "file_system_client = archive_datalake_service_client.get_file_system_client(\"landing\")"
   ]
  },
  {
   "cell_type": "code",
   "execution_count": null,
   "metadata": {},
   "outputs": [],
   "source": [
    "file_list = file_system_client.get_paths(\"forecast_nwp_dmi_harmonie_dini_sf/schema_version=None/year=2024/month=06/day=01/hour=12\")"
   ]
  },
  {
   "cell_type": "code",
   "execution_count": null,
   "metadata": {},
   "outputs": [],
   "source": [
    "file_list = list(file_list)"
   ]
  },
  {
   "cell_type": "code",
   "execution_count": null,
   "metadata": {},
   "outputs": [],
   "source": [
    "file_client = file_system_client.get_file_client(file_list[1])"
   ]
  },
  {
   "cell_type": "code",
   "execution_count": null,
   "metadata": {},
   "outputs": [],
   "source": [
    "content = file_client.download_file()"
   ]
  },
  {
   "cell_type": "code",
   "execution_count": null,
   "metadata": {},
   "outputs": [],
   "source": [
    "with open(\"test.grib\", \"wb\") as f:\n",
    "    content.readinto(f)"
   ]
  },
  {
   "cell_type": "code",
   "execution_count": null,
   "metadata": {},
   "outputs": [],
   "source": [
    "ds = transformations.nwp.grib_to_dataset(\"test.grib\")"
   ]
  },
  {
   "cell_type": "code",
   "execution_count": null,
   "metadata": {},
   "outputs": [],
   "source": [
    "destination = sandbox_datalake_service_client.get_directory_client(file_system=\"analysis\", directory=\"uch/netcdf\")"
   ]
  },
  {
   "cell_type": "code",
   "execution_count": null,
   "metadata": {},
   "outputs": [],
   "source": [
    "files.nwp.dataset_to_netcdf(ds, destination)"
   ]
  },
  {
   "cell_type": "code",
   "execution_count": null,
   "metadata": {},
   "outputs": [],
   "source": []
  }
 ],
 "metadata": {
  "kernelspec": {
   "display_name": "pvforecast-etl",
   "language": "python",
   "name": "python3"
  },
  "language_info": {
   "codemirror_mode": {
    "name": "ipython",
    "version": 3
   },
   "file_extension": ".py",
   "mimetype": "text/x-python",
   "name": "python",
   "nbconvert_exporter": "python",
   "pygments_lexer": "ipython3",
   "version": "3.10.8"
  }
 },
 "nbformat": 4,
 "nbformat_minor": 2
}
